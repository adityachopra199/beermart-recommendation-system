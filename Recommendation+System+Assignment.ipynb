{
 "cells": [
  {
   "cell_type": "code",
   "execution_count": 1,
   "metadata": {},
   "outputs": [],
   "source": [
    "#Importing the required libraries\n",
    "import pandas as pd\n",
    "import numpy as np\n",
    "import seaborn as sns\n",
    "import matplotlib.pyplot as plt"
   ]
  },
  {
   "cell_type": "code",
   "execution_count": 2,
   "metadata": {},
   "outputs": [],
   "source": [
    "#Reading the data from the csv file\n",
    "data = pd.read_csv(\"beer_data.csv\")"
   ]
  },
  {
   "cell_type": "code",
   "execution_count": 3,
   "metadata": {},
   "outputs": [
    {
     "data": {
      "text/plain": [
       "(475984, 3)"
      ]
     },
     "execution_count": 3,
     "metadata": {},
     "output_type": "execute_result"
    }
   ],
   "source": [
    "#Number of rows & columns of the given data\n",
    "data.shape"
   ]
  },
  {
   "cell_type": "markdown",
   "metadata": {},
   "source": [
    "#### The dataset has 4,75,984 rows & 3 columns"
   ]
  },
  {
   "cell_type": "code",
   "execution_count": 4,
   "metadata": {},
   "outputs": [
    {
     "data": {
      "text/plain": [
       "beer_beerid             0\n",
       "review_profilename    100\n",
       "review_overall          0\n",
       "dtype: int64"
      ]
     },
     "execution_count": 4,
     "metadata": {},
     "output_type": "execute_result"
    }
   ],
   "source": [
    "#Let's check if there are any null values\n",
    "pd.isnull(data).sum()"
   ]
  },
  {
   "cell_type": "markdown",
   "metadata": {},
   "source": [
    "#### As we see above, there are 100 null values in the column 'review_profilename'"
   ]
  },
  {
   "cell_type": "code",
   "execution_count": 5,
   "metadata": {},
   "outputs": [
    {
     "data": {
      "text/html": [
       "<div>\n",
       "<style scoped>\n",
       "    .dataframe tbody tr th:only-of-type {\n",
       "        vertical-align: middle;\n",
       "    }\n",
       "\n",
       "    .dataframe tbody tr th {\n",
       "        vertical-align: top;\n",
       "    }\n",
       "\n",
       "    .dataframe thead th {\n",
       "        text-align: right;\n",
       "    }\n",
       "</style>\n",
       "<table border=\"1\" class=\"dataframe\">\n",
       "  <thead>\n",
       "    <tr style=\"text-align: right;\">\n",
       "      <th></th>\n",
       "      <th>beer_beerid</th>\n",
       "      <th>review_profilename</th>\n",
       "      <th>review_overall</th>\n",
       "    </tr>\n",
       "  </thead>\n",
       "  <tbody>\n",
       "    <tr>\n",
       "      <th>0</th>\n",
       "      <td>48215</td>\n",
       "      <td>stcules</td>\n",
       "      <td>3.0</td>\n",
       "    </tr>\n",
       "    <tr>\n",
       "      <th>1</th>\n",
       "      <td>52159</td>\n",
       "      <td>oline73</td>\n",
       "      <td>3.0</td>\n",
       "    </tr>\n",
       "    <tr>\n",
       "      <th>2</th>\n",
       "      <td>52159</td>\n",
       "      <td>alpinebryant</td>\n",
       "      <td>3.0</td>\n",
       "    </tr>\n",
       "    <tr>\n",
       "      <th>3</th>\n",
       "      <td>52159</td>\n",
       "      <td>rawthar</td>\n",
       "      <td>4.0</td>\n",
       "    </tr>\n",
       "    <tr>\n",
       "      <th>4</th>\n",
       "      <td>52159</td>\n",
       "      <td>RangerClegg</td>\n",
       "      <td>3.5</td>\n",
       "    </tr>\n",
       "  </tbody>\n",
       "</table>\n",
       "</div>"
      ],
      "text/plain": [
       "   beer_beerid review_profilename  review_overall\n",
       "0        48215            stcules             3.0\n",
       "1        52159            oline73             3.0\n",
       "2        52159       alpinebryant             3.0\n",
       "3        52159            rawthar             4.0\n",
       "4        52159        RangerClegg             3.5"
      ]
     },
     "execution_count": 5,
     "metadata": {},
     "output_type": "execute_result"
    }
   ],
   "source": [
    "#Top 5 rows check of the dataframe\n",
    "data.head()"
   ]
  },
  {
   "cell_type": "code",
   "execution_count": 6,
   "metadata": {},
   "outputs": [
    {
     "data": {
      "text/plain": [
       "22498"
      ]
     },
     "execution_count": 6,
     "metadata": {},
     "output_type": "execute_result"
    }
   ],
   "source": [
    "#Number of unique review_profilename\n",
    "len(data.review_profilename.unique())"
   ]
  },
  {
   "cell_type": "markdown",
   "metadata": {},
   "source": [
    "#### The number of unique reviewers in the given dataset comes out to bee 22,498"
   ]
  },
  {
   "cell_type": "code",
   "execution_count": 7,
   "metadata": {},
   "outputs": [
    {
     "data": {
      "text/plain": [
       "40308"
      ]
     },
     "execution_count": 7,
     "metadata": {},
     "output_type": "execute_result"
    }
   ],
   "source": [
    "#Number of unique beerid(s)\n",
    "len(data.beer_beerid.unique())"
   ]
  },
  {
   "cell_type": "markdown",
   "metadata": {},
   "source": [
    "#### The number of unique beers are 40,308"
   ]
  },
  {
   "cell_type": "code",
   "execution_count": 8,
   "metadata": {},
   "outputs": [
    {
     "data": {
      "text/plain": [
       "10"
      ]
     },
     "execution_count": 8,
     "metadata": {},
     "output_type": "execute_result"
    }
   ],
   "source": [
    "#Let's check the number of unique ratings given to the beers\n",
    "len(data.review_overall.unique())"
   ]
  },
  {
   "cell_type": "markdown",
   "metadata": {},
   "source": [
    "#### Therefore, there are only 10 unique ratings in the given dataset"
   ]
  },
  {
   "cell_type": "code",
   "execution_count": 9,
   "metadata": {},
   "outputs": [
    {
     "data": {
      "text/plain": [
       "1424"
      ]
     },
     "execution_count": 9,
     "metadata": {},
     "output_type": "execute_result"
    }
   ],
   "source": [
    "#Number of duplicate rows based upon beerId & review_profilename\n",
    "data.duplicated(subset = ['beer_beerid', 'review_profilename'], keep = 'first').sum()"
   ]
  },
  {
   "cell_type": "markdown",
   "metadata": {},
   "source": [
    "#### There are 1424 duplicate rows"
   ]
  },
  {
   "cell_type": "code",
   "execution_count": 10,
   "metadata": {},
   "outputs": [],
   "source": [
    "#Let's drop duplicates across all the columns i.e. if we have same set of rows in the given dataset\n",
    "data.drop_duplicates(subset = ['beer_beerid', 'review_profilename'], inplace = True, keep = 'first')"
   ]
  },
  {
   "cell_type": "code",
   "execution_count": 11,
   "metadata": {},
   "outputs": [
    {
     "data": {
      "text/plain": [
       "(474560, 3)"
      ]
     },
     "execution_count": 11,
     "metadata": {},
     "output_type": "execute_result"
    }
   ],
   "source": [
    "#Shape of the dataframe after dropping the duplicates\n",
    "data.shape"
   ]
  },
  {
   "cell_type": "code",
   "execution_count": 12,
   "metadata": {},
   "outputs": [
    {
     "data": {
      "text/plain": [
       "1424"
      ]
     },
     "execution_count": 12,
     "metadata": {},
     "output_type": "execute_result"
    }
   ],
   "source": [
    "#The result of below subtraction must be equal to 1424 if the duplicate rows are successfully removed\n",
    "475984-474560"
   ]
  },
  {
   "cell_type": "code",
   "execution_count": 13,
   "metadata": {},
   "outputs": [
    {
     "data": {
      "text/plain": [
       "4.0    174261\n",
       "4.5     96959\n",
       "3.5     90597\n",
       "3.0     49435\n",
       "5.0     27041\n",
       "2.5     17570\n",
       "2.0     11596\n",
       "1.5      3811\n",
       "1.0      3284\n",
       "0.0         6\n",
       "Name: review_overall, dtype: int64"
      ]
     },
     "execution_count": 13,
     "metadata": {},
     "output_type": "execute_result"
    }
   ],
   "source": [
    "#Let's check the unique ratings & their count of occurence in the given dataset\n",
    "data.review_overall.astype('category').value_counts()"
   ]
  },
  {
   "cell_type": "code",
   "execution_count": 14,
   "metadata": {
    "scrolled": true
   },
   "outputs": [],
   "source": [
    "#Let's remove the null values from the dataset\n",
    "data = data.loc[~pd.isnull(data.review_profilename)]"
   ]
  },
  {
   "cell_type": "code",
   "execution_count": 15,
   "metadata": {},
   "outputs": [
    {
     "data": {
      "text/plain": [
       "(474462, 3)"
      ]
     },
     "execution_count": 15,
     "metadata": {},
     "output_type": "execute_result"
    }
   ],
   "source": [
    "# Let's check the shape of the dataset once again\n",
    "data.shape"
   ]
  },
  {
   "cell_type": "markdown",
   "metadata": {},
   "source": [
    "As we see, the count of rows has decreased by 100, therefore we have successfully removed the null rows"
   ]
  },
  {
   "cell_type": "code",
   "execution_count": 16,
   "metadata": {},
   "outputs": [],
   "source": [
    "#Getting the count of ratings corresponding to each beerID\n",
    "count_data = data.groupby('beer_beerid').count()[['review_profilename']].sort_values('review_profilename', ascending = False).reset_index()\n",
    "count_data.columns = ['beer_id','number_of_ratings']"
   ]
  },
  {
   "cell_type": "code",
   "execution_count": 17,
   "metadata": {},
   "outputs": [
    {
     "data": {
      "text/html": [
       "<div>\n",
       "<style scoped>\n",
       "    .dataframe tbody tr th:only-of-type {\n",
       "        vertical-align: middle;\n",
       "    }\n",
       "\n",
       "    .dataframe tbody tr th {\n",
       "        vertical-align: top;\n",
       "    }\n",
       "\n",
       "    .dataframe thead th {\n",
       "        text-align: right;\n",
       "    }\n",
       "</style>\n",
       "<table border=\"1\" class=\"dataframe\">\n",
       "  <thead>\n",
       "    <tr style=\"text-align: right;\">\n",
       "      <th></th>\n",
       "      <th>beer_id</th>\n",
       "      <th>number_of_ratings</th>\n",
       "    </tr>\n",
       "  </thead>\n",
       "  <tbody>\n",
       "    <tr>\n",
       "      <th>0</th>\n",
       "      <td>2093</td>\n",
       "      <td>977</td>\n",
       "    </tr>\n",
       "    <tr>\n",
       "      <th>1</th>\n",
       "      <td>412</td>\n",
       "      <td>966</td>\n",
       "    </tr>\n",
       "    <tr>\n",
       "      <th>2</th>\n",
       "      <td>1904</td>\n",
       "      <td>902</td>\n",
       "    </tr>\n",
       "    <tr>\n",
       "      <th>3</th>\n",
       "      <td>1093</td>\n",
       "      <td>840</td>\n",
       "    </tr>\n",
       "    <tr>\n",
       "      <th>4</th>\n",
       "      <td>92</td>\n",
       "      <td>812</td>\n",
       "    </tr>\n",
       "  </tbody>\n",
       "</table>\n",
       "</div>"
      ],
      "text/plain": [
       "   beer_id  number_of_ratings\n",
       "0     2093                977\n",
       "1      412                966\n",
       "2     1904                902\n",
       "3     1093                840\n",
       "4       92                812"
      ]
     },
     "execution_count": 17,
     "metadata": {},
     "output_type": "execute_result"
    }
   ],
   "source": [
    "#Top 5 rows of the dataframe containing beer_id & number_of_ratings\n",
    "count_data.head()"
   ]
  },
  {
   "cell_type": "code",
   "execution_count": 18,
   "metadata": {},
   "outputs": [
    {
     "data": {
      "text/html": [
       "<div>\n",
       "<style scoped>\n",
       "    .dataframe tbody tr th:only-of-type {\n",
       "        vertical-align: middle;\n",
       "    }\n",
       "\n",
       "    .dataframe tbody tr th {\n",
       "        vertical-align: top;\n",
       "    }\n",
       "\n",
       "    .dataframe thead th {\n",
       "        text-align: right;\n",
       "    }\n",
       "</style>\n",
       "<table border=\"1\" class=\"dataframe\">\n",
       "  <thead>\n",
       "    <tr style=\"text-align: right;\">\n",
       "      <th></th>\n",
       "      <th>beer_id</th>\n",
       "      <th>number_of_ratings</th>\n",
       "    </tr>\n",
       "  </thead>\n",
       "  <tbody>\n",
       "    <tr>\n",
       "      <th>count</th>\n",
       "      <td>40304.000000</td>\n",
       "      <td>40304.000000</td>\n",
       "    </tr>\n",
       "    <tr>\n",
       "      <th>mean</th>\n",
       "      <td>36973.166460</td>\n",
       "      <td>11.772082</td>\n",
       "    </tr>\n",
       "    <tr>\n",
       "      <th>std</th>\n",
       "      <td>22544.756432</td>\n",
       "      <td>41.888449</td>\n",
       "    </tr>\n",
       "    <tr>\n",
       "      <th>min</th>\n",
       "      <td>3.000000</td>\n",
       "      <td>1.000000</td>\n",
       "    </tr>\n",
       "    <tr>\n",
       "      <th>10%</th>\n",
       "      <td>5754.600000</td>\n",
       "      <td>1.000000</td>\n",
       "    </tr>\n",
       "    <tr>\n",
       "      <th>20%</th>\n",
       "      <td>12902.600000</td>\n",
       "      <td>1.000000</td>\n",
       "    </tr>\n",
       "    <tr>\n",
       "      <th>30%</th>\n",
       "      <td>20923.900000</td>\n",
       "      <td>1.000000</td>\n",
       "    </tr>\n",
       "    <tr>\n",
       "      <th>40%</th>\n",
       "      <td>28986.600000</td>\n",
       "      <td>1.000000</td>\n",
       "    </tr>\n",
       "    <tr>\n",
       "      <th>50%</th>\n",
       "      <td>37366.500000</td>\n",
       "      <td>2.000000</td>\n",
       "    </tr>\n",
       "    <tr>\n",
       "      <th>60%</th>\n",
       "      <td>44895.800000</td>\n",
       "      <td>2.000000</td>\n",
       "    </tr>\n",
       "    <tr>\n",
       "      <th>70%</th>\n",
       "      <td>52329.100000</td>\n",
       "      <td>4.000000</td>\n",
       "    </tr>\n",
       "    <tr>\n",
       "      <th>80%</th>\n",
       "      <td>60255.400000</td>\n",
       "      <td>7.000000</td>\n",
       "    </tr>\n",
       "    <tr>\n",
       "      <th>85%</th>\n",
       "      <td>64150.550000</td>\n",
       "      <td>12.000000</td>\n",
       "    </tr>\n",
       "    <tr>\n",
       "      <th>90%</th>\n",
       "      <td>68137.100000</td>\n",
       "      <td>21.000000</td>\n",
       "    </tr>\n",
       "    <tr>\n",
       "      <th>93%</th>\n",
       "      <td>70677.950000</td>\n",
       "      <td>34.000000</td>\n",
       "    </tr>\n",
       "    <tr>\n",
       "      <th>95%</th>\n",
       "      <td>72475.700000</td>\n",
       "      <td>51.000000</td>\n",
       "    </tr>\n",
       "    <tr>\n",
       "      <th>97%</th>\n",
       "      <td>74210.370000</td>\n",
       "      <td>86.000000</td>\n",
       "    </tr>\n",
       "    <tr>\n",
       "      <th>99%</th>\n",
       "      <td>76122.970000</td>\n",
       "      <td>195.000000</td>\n",
       "    </tr>\n",
       "    <tr>\n",
       "      <th>max</th>\n",
       "      <td>77317.000000</td>\n",
       "      <td>977.000000</td>\n",
       "    </tr>\n",
       "  </tbody>\n",
       "</table>\n",
       "</div>"
      ],
      "text/plain": [
       "            beer_id  number_of_ratings\n",
       "count  40304.000000       40304.000000\n",
       "mean   36973.166460          11.772082\n",
       "std    22544.756432          41.888449\n",
       "min        3.000000           1.000000\n",
       "10%     5754.600000           1.000000\n",
       "20%    12902.600000           1.000000\n",
       "30%    20923.900000           1.000000\n",
       "40%    28986.600000           1.000000\n",
       "50%    37366.500000           2.000000\n",
       "60%    44895.800000           2.000000\n",
       "70%    52329.100000           4.000000\n",
       "80%    60255.400000           7.000000\n",
       "85%    64150.550000          12.000000\n",
       "90%    68137.100000          21.000000\n",
       "93%    70677.950000          34.000000\n",
       "95%    72475.700000          51.000000\n",
       "97%    74210.370000          86.000000\n",
       "99%    76122.970000         195.000000\n",
       "max    77317.000000         977.000000"
      ]
     },
     "execution_count": 18,
     "metadata": {},
     "output_type": "execute_result"
    }
   ],
   "source": [
    "#Let's check the number_of_ratings corresponding to each beer id at various percentiles\n",
    "count_data.describe(percentiles = [.1,.2,.3,.4,.5,.6,.7,.8,.85,.9,.93,.95,.97,.99])"
   ]
  },
  {
   "cell_type": "markdown",
   "metadata": {},
   "source": [
    "#### Let's choose minimum number of ratings to be 51 for a beer & filter the dataset"
   ]
  },
  {
   "cell_type": "code",
   "execution_count": 19,
   "metadata": {},
   "outputs": [],
   "source": [
    "#Filtering list of required ids i.e. the beer ids with number of ratings greater than or eqal to 51\n",
    "listOfRequiredIds = count_data.loc[count_data.number_of_ratings >= 51]"
   ]
  },
  {
   "cell_type": "code",
   "execution_count": 20,
   "metadata": {},
   "outputs": [
    {
     "data": {
      "text/plain": [
       "(2028, 2)"
      ]
     },
     "execution_count": 20,
     "metadata": {},
     "output_type": "execute_result"
    }
   ],
   "source": [
    "#Checking the shape which would tell us how many beers are we going to analyze\n",
    "listOfRequiredIds.shape"
   ]
  },
  {
   "cell_type": "markdown",
   "metadata": {},
   "source": [
    "#### Therefore, we would building are model on & for 2028 beers"
   ]
  },
  {
   "cell_type": "code",
   "execution_count": 21,
   "metadata": {},
   "outputs": [],
   "source": [
    "#Converting series of beer_id to list so as to use to filter\n",
    "listOfRequiredBeerIds = list(listOfRequiredIds.beer_id)"
   ]
  },
  {
   "cell_type": "code",
   "execution_count": 22,
   "metadata": {},
   "outputs": [],
   "source": [
    "#Preparing the final dataframe by filtering only the required beer ids\n",
    "filtered_data = data.loc[data.beer_beerid.isin(listOfRequiredBeerIds)]"
   ]
  },
  {
   "cell_type": "code",
   "execution_count": 23,
   "metadata": {},
   "outputs": [
    {
     "data": {
      "text/plain": [
       "(294197, 3)"
      ]
     },
     "execution_count": 23,
     "metadata": {},
     "output_type": "execute_result"
    }
   ],
   "source": [
    "#Checking the shape of the new dataframe\n",
    "filtered_data.shape"
   ]
  },
  {
   "cell_type": "code",
   "execution_count": 24,
   "metadata": {},
   "outputs": [
    {
     "data": {
      "text/html": [
       "<div>\n",
       "<style scoped>\n",
       "    .dataframe tbody tr th:only-of-type {\n",
       "        vertical-align: middle;\n",
       "    }\n",
       "\n",
       "    .dataframe tbody tr th {\n",
       "        vertical-align: top;\n",
       "    }\n",
       "\n",
       "    .dataframe thead th {\n",
       "        text-align: right;\n",
       "    }\n",
       "</style>\n",
       "<table border=\"1\" class=\"dataframe\">\n",
       "  <thead>\n",
       "    <tr style=\"text-align: right;\">\n",
       "      <th></th>\n",
       "      <th>beer_beerid</th>\n",
       "      <th>review_profilename</th>\n",
       "      <th>review_overall</th>\n",
       "    </tr>\n",
       "  </thead>\n",
       "  <tbody>\n",
       "    <tr>\n",
       "      <th>12</th>\n",
       "      <td>436</td>\n",
       "      <td>Brent</td>\n",
       "      <td>3.0</td>\n",
       "    </tr>\n",
       "    <tr>\n",
       "      <th>101</th>\n",
       "      <td>10784</td>\n",
       "      <td>CHILLINDYLAN</td>\n",
       "      <td>4.5</td>\n",
       "    </tr>\n",
       "    <tr>\n",
       "      <th>102</th>\n",
       "      <td>10784</td>\n",
       "      <td>JayQue</td>\n",
       "      <td>4.0</td>\n",
       "    </tr>\n",
       "    <tr>\n",
       "      <th>103</th>\n",
       "      <td>10784</td>\n",
       "      <td>AlCaponeJunior</td>\n",
       "      <td>4.0</td>\n",
       "    </tr>\n",
       "    <tr>\n",
       "      <th>104</th>\n",
       "      <td>10784</td>\n",
       "      <td>BEERchitect</td>\n",
       "      <td>4.0</td>\n",
       "    </tr>\n",
       "  </tbody>\n",
       "</table>\n",
       "</div>"
      ],
      "text/plain": [
       "     beer_beerid review_profilename  review_overall\n",
       "12           436              Brent             3.0\n",
       "101        10784       CHILLINDYLAN             4.5\n",
       "102        10784             JayQue             4.0\n",
       "103        10784     AlCaponeJunior             4.0\n",
       "104        10784        BEERchitect             4.0"
      ]
     },
     "execution_count": 24,
     "metadata": {},
     "output_type": "execute_result"
    }
   ],
   "source": [
    "#Checking the first 5 rows of the filtered dataframe containing beers with number of ratings greater than 50\n",
    "filtered_data.head()"
   ]
  },
  {
   "cell_type": "code",
   "execution_count": 25,
   "metadata": {},
   "outputs": [
    {
     "data": {
      "text/html": [
       "<div>\n",
       "<style scoped>\n",
       "    .dataframe tbody tr th:only-of-type {\n",
       "        vertical-align: middle;\n",
       "    }\n",
       "\n",
       "    .dataframe tbody tr th {\n",
       "        vertical-align: top;\n",
       "    }\n",
       "\n",
       "    .dataframe thead th {\n",
       "        text-align: right;\n",
       "    }\n",
       "</style>\n",
       "<table border=\"1\" class=\"dataframe\">\n",
       "  <thead>\n",
       "    <tr style=\"text-align: right;\">\n",
       "      <th></th>\n",
       "      <th>review_overall</th>\n",
       "    </tr>\n",
       "  </thead>\n",
       "  <tbody>\n",
       "    <tr>\n",
       "      <th>4.0</th>\n",
       "      <td>110316</td>\n",
       "    </tr>\n",
       "    <tr>\n",
       "      <th>4.5</th>\n",
       "      <td>66724</td>\n",
       "    </tr>\n",
       "    <tr>\n",
       "      <th>3.5</th>\n",
       "      <td>51606</td>\n",
       "    </tr>\n",
       "    <tr>\n",
       "      <th>3.0</th>\n",
       "      <td>26895</td>\n",
       "    </tr>\n",
       "    <tr>\n",
       "      <th>5.0</th>\n",
       "      <td>20076</td>\n",
       "    </tr>\n",
       "    <tr>\n",
       "      <th>2.5</th>\n",
       "      <td>9038</td>\n",
       "    </tr>\n",
       "    <tr>\n",
       "      <th>2.0</th>\n",
       "      <td>5987</td>\n",
       "    </tr>\n",
       "    <tr>\n",
       "      <th>1.5</th>\n",
       "      <td>1873</td>\n",
       "    </tr>\n",
       "    <tr>\n",
       "      <th>1.0</th>\n",
       "      <td>1682</td>\n",
       "    </tr>\n",
       "  </tbody>\n",
       "</table>\n",
       "</div>"
      ],
      "text/plain": [
       "     review_overall\n",
       "4.0          110316\n",
       "4.5           66724\n",
       "3.5           51606\n",
       "3.0           26895\n",
       "5.0           20076\n",
       "2.5            9038\n",
       "2.0            5987\n",
       "1.5            1873\n",
       "1.0            1682"
      ]
     },
     "execution_count": 25,
     "metadata": {},
     "output_type": "execute_result"
    }
   ],
   "source": [
    "# Let's explore the unique values of ratings we're left with after filteration\n",
    "pd.DataFrame(filtered_data.review_overall.astype('category').value_counts())"
   ]
  },
  {
   "cell_type": "code",
   "execution_count": 26,
   "metadata": {
    "scrolled": true
   },
   "outputs": [
    {
     "data": {
      "text/html": [
       "<div>\n",
       "<style scoped>\n",
       "    .dataframe tbody tr th:only-of-type {\n",
       "        vertical-align: middle;\n",
       "    }\n",
       "\n",
       "    .dataframe tbody tr th {\n",
       "        vertical-align: top;\n",
       "    }\n",
       "\n",
       "    .dataframe thead th {\n",
       "        text-align: right;\n",
       "    }\n",
       "</style>\n",
       "<table border=\"1\" class=\"dataframe\">\n",
       "  <thead>\n",
       "    <tr style=\"text-align: right;\">\n",
       "      <th></th>\n",
       "      <th>beer_beerid</th>\n",
       "      <th>review_overall</th>\n",
       "    </tr>\n",
       "  </thead>\n",
       "  <tbody>\n",
       "    <tr>\n",
       "      <th>0</th>\n",
       "      <td>16814</td>\n",
       "      <td>4.650735</td>\n",
       "    </tr>\n",
       "    <tr>\n",
       "      <th>1</th>\n",
       "      <td>1545</td>\n",
       "      <td>4.622276</td>\n",
       "    </tr>\n",
       "    <tr>\n",
       "      <th>2</th>\n",
       "      <td>21690</td>\n",
       "      <td>4.608108</td>\n",
       "    </tr>\n",
       "    <tr>\n",
       "      <th>3</th>\n",
       "      <td>7971</td>\n",
       "      <td>4.596401</td>\n",
       "    </tr>\n",
       "    <tr>\n",
       "      <th>4</th>\n",
       "      <td>47658</td>\n",
       "      <td>4.586592</td>\n",
       "    </tr>\n",
       "  </tbody>\n",
       "</table>\n",
       "</div>"
      ],
      "text/plain": [
       "   beer_beerid  review_overall\n",
       "0        16814        4.650735\n",
       "1         1545        4.622276\n",
       "2        21690        4.608108\n",
       "3         7971        4.596401\n",
       "4        47658        4.586592"
      ]
     },
     "execution_count": 26,
     "metadata": {},
     "output_type": "execute_result"
    }
   ],
   "source": [
    "#Formulating average rating for each of the beerID\n",
    "dataToPlot = filtered_data.groupby('beer_beerid').mean().sort_values('review_overall',ascending = False).reset_index()\n",
    "dataToPlot.head()"
   ]
  },
  {
   "cell_type": "code",
   "execution_count": 27,
   "metadata": {},
   "outputs": [
    {
     "data": {
      "image/png": "[encoded data removed]",
      "text/plain": [
       "<Figure size 1080x432 with 1 Axes>"
      ]
     },
     "metadata": {},
     "output_type": "display_data"
    }
   ],
   "source": [
    "# Plotting the average beer ratings of top 20 rated beers\n",
    "plt.figure(figsize = (15,6))\n",
    "plt.title('Beer ID vs Average Rating (Top 20)')\n",
    "ax = sns.barplot(x = 'beer_beerid', y = 'review_overall', data = dataToPlot.head(20), order = dataToPlot['beer_beerid'].head(20))\n",
    "sns.set_context(\"paper\", font_scale=1.2)\n",
    "ax.set(xlabel=\"Beer ID\", ylabel = \"Average Rating\")\n",
    "plt.show()"
   ]
  },
  {
   "cell_type": "code",
   "execution_count": 28,
   "metadata": {},
   "outputs": [
    {
     "data": {
      "image/png": "[encoded data removed]",
      "text/plain": [
       "<Figure size 1224x504 with 1 Axes>"
      ]
     },
     "metadata": {},
     "output_type": "display_data"
    }
   ],
   "source": [
    "# Plotting the average user ratings of random 10 users\n",
    "plt.figure(figsize = (17,7))\n",
    "plt.title(\"Profile Name vs Average Rating given by User\")\n",
    "sns.barplot(x = 'review_profilename', y = 'review_overall', data = filtered_data.groupby('review_profilename').mean().reset_index().head(10))\n",
    "plt.xlabel(\"Profile Name\") \n",
    "plt.ylabel(\"Average Rating by User\")\n",
    "plt.show()"
   ]
  },
  {
   "cell_type": "code",
   "execution_count": 29,
   "metadata": {},
   "outputs": [
    {
     "data": {
      "image/png": "[encoded data removed]",
      "text/plain": [
       "<Figure size 1080x504 with 1 Axes>"
      ]
     },
     "metadata": {},
     "output_type": "display_data"
    }
   ],
   "source": [
    "# Plotting the number of ratings given by user of random 10 users\n",
    "plt.figure(figsize = (15,7))\n",
    "plt.title(\"Profile Name vs Number of Ratings given\")\n",
    "sns.barplot(x = 'review_profilename', y = 'review_overall', data = filtered_data.groupby('review_profilename').count().reset_index().head(10))\n",
    "plt.xlabel(\"Number of ratings given\")\n",
    "plt.ylabel(\"Profile Name\")\n",
    "plt.show()"
   ]
  },
  {
   "cell_type": "code",
   "execution_count": 30,
   "metadata": {},
   "outputs": [
    {
     "data": {
      "image/png": "[encoded data removed]",
      "text/plain": [
       "<Figure size 1200x400 with 1 Axes>"
      ]
     },
     "metadata": {},
     "output_type": "display_data"
    }
   ],
   "source": [
    "plt.figure(figsize=(15,5), dpi= 80)\n",
    "plt.title(\"Number of records for each rating\")\n",
    "sns.kdeplot(data['review_overall'], shade=True, color=\"dodgerblue\", label=\"Cyl=4\", alpha=.7)\n",
    "plt.xlabel('Ratings')\n",
    "plt.ylabel('Number of records')\n",
    "plt.show()"
   ]
  },
  {
   "cell_type": "markdown",
   "metadata": {},
   "source": [
    "#### We see from the above plot that most of the ratings are between the range 3.5 to 4.5"
   ]
  },
  {
   "cell_type": "code",
   "execution_count": 31,
   "metadata": {},
   "outputs": [
    {
     "data": {
      "image/png": "[encoded data removed]",
      "text/plain": [
       "<Figure size 1224x504 with 1 Axes>"
      ]
     },
     "metadata": {},
     "output_type": "display_data"
    }
   ],
   "source": [
    "# Plotting the number of ratings of top 10 users(Based on number of ratings provided)\n",
    "plt.figure(figsize = (17,7))\n",
    "plt.title(\"Profile Name vs Number of ratings (Top 10)\")\n",
    "sns.barplot(x = 'review_profilename', y = 'review_overall', data = filtered_data.groupby('review_profilename').count().sort_values('review_overall',ascending = False).reset_index().head(10))\n",
    "plt.xlabel(\"Profile name\")\n",
    "plt.ylabel(\"Number of ratings\")\n",
    "plt.show()"
   ]
  },
  {
   "cell_type": "markdown",
   "metadata": {},
   "source": [
    "#### BuckeyNation has given the highest number of records"
   ]
  },
  {
   "cell_type": "code",
   "execution_count": 32,
   "metadata": {},
   "outputs": [
    {
     "data": {
      "image/png": "[encoded data removed]",
      "text/plain": [
       "<Figure size 1080x504 with 1 Axes>"
      ]
     },
     "metadata": {},
     "output_type": "display_data"
    }
   ],
   "source": [
    "# Plotting the number of ratings of top 10 beers(based on the number of ratings for each beer)\n",
    "plt.figure(figsize = (15,7))\n",
    "plt.title('Beer ID vs Number of ratings')\n",
    "dataToPlot = filtered_data.groupby('beer_beerid').count().sort_values('review_overall',ascending = False).reset_index().head(10)\n",
    "sns.barplot(x = 'beer_beerid', y = 'review_overall', data = dataToPlot, order = dataToPlot['beer_beerid'])\n",
    "plt.xlabel('Beer ID')\n",
    "plt.ylabel('Number of ratings')\n",
    "plt.show()"
   ]
  },
  {
   "cell_type": "markdown",
   "metadata": {},
   "source": [
    "#### As seen above, beer id 2093 has the highest number of ratings received which means it must be the most popular one. On the second place can be seen beer id 412 with a very small difference from the beer in the number one position."
   ]
  },
  {
   "cell_type": "code",
   "execution_count": 33,
   "metadata": {},
   "outputs": [
    {
     "data": {
      "text/plain": [
       "review_profilename    145.067554\n",
       "review_overall        145.067554\n",
       "dtype: float64"
      ]
     },
     "execution_count": 33,
     "metadata": {},
     "output_type": "execute_result"
    }
   ],
   "source": [
    "#Average of the number of ratings as it seems from the question 'The average number of ratings given to the beers'\n",
    "filtered_data.groupby('beer_beerid').count().mean()"
   ]
  },
  {
   "cell_type": "code",
   "execution_count": 34,
   "metadata": {},
   "outputs": [
    {
     "data": {
      "text/plain": [
       "beer_beerid       15.128143\n",
       "review_overall    15.128143\n",
       "dtype: float64"
      ]
     },
     "execution_count": 34,
     "metadata": {},
     "output_type": "execute_result"
    }
   ],
   "source": [
    "#Average of the number of ratings as it seems from the question 'The average number of ratings given by the users'\n",
    "filtered_data.groupby('review_profilename').count().mean()"
   ]
  },
  {
   "cell_type": "code",
   "execution_count": 35,
   "metadata": {},
   "outputs": [
    {
     "data": {
      "text/html": [
       "<div>\n",
       "<style scoped>\n",
       "    .dataframe tbody tr th:only-of-type {\n",
       "        vertical-align: middle;\n",
       "    }\n",
       "\n",
       "    .dataframe tbody tr th {\n",
       "        vertical-align: top;\n",
       "    }\n",
       "\n",
       "    .dataframe thead th {\n",
       "        text-align: right;\n",
       "    }\n",
       "</style>\n",
       "<table border=\"1\" class=\"dataframe\">\n",
       "  <thead>\n",
       "    <tr style=\"text-align: right;\">\n",
       "      <th></th>\n",
       "      <th>review_overall</th>\n",
       "    </tr>\n",
       "  </thead>\n",
       "  <tbody>\n",
       "    <tr>\n",
       "      <th>4.0</th>\n",
       "      <td>110316</td>\n",
       "    </tr>\n",
       "    <tr>\n",
       "      <th>4.5</th>\n",
       "      <td>66724</td>\n",
       "    </tr>\n",
       "    <tr>\n",
       "      <th>3.5</th>\n",
       "      <td>51606</td>\n",
       "    </tr>\n",
       "    <tr>\n",
       "      <th>3.0</th>\n",
       "      <td>26895</td>\n",
       "    </tr>\n",
       "    <tr>\n",
       "      <th>5.0</th>\n",
       "      <td>20076</td>\n",
       "    </tr>\n",
       "    <tr>\n",
       "      <th>2.5</th>\n",
       "      <td>9038</td>\n",
       "    </tr>\n",
       "    <tr>\n",
       "      <th>2.0</th>\n",
       "      <td>5987</td>\n",
       "    </tr>\n",
       "    <tr>\n",
       "      <th>1.5</th>\n",
       "      <td>1873</td>\n",
       "    </tr>\n",
       "    <tr>\n",
       "      <th>1.0</th>\n",
       "      <td>1682</td>\n",
       "    </tr>\n",
       "  </tbody>\n",
       "</table>\n",
       "</div>"
      ],
      "text/plain": [
       "     review_overall\n",
       "4.0          110316\n",
       "4.5           66724\n",
       "3.5           51606\n",
       "3.0           26895\n",
       "5.0           20076\n",
       "2.5            9038\n",
       "2.0            5987\n",
       "1.5            1873\n",
       "1.0            1682"
      ]
     },
     "execution_count": 35,
     "metadata": {},
     "output_type": "execute_result"
    }
   ],
   "source": [
    "#Preparing data for plotting the number of ratins for each rating in a pie plot\n",
    "piePlotData = pd.DataFrame(filtered_data.review_overall.astype('category').value_counts())\n",
    "piePlotData"
   ]
  },
  {
   "cell_type": "code",
   "execution_count": 36,
   "metadata": {},
   "outputs": [
    {
     "data": {
      "image/png": "[encoded data removed]",
      "text/plain": [
       "<Figure size 720x720 with 1 Axes>"
      ]
     },
     "metadata": {},
     "output_type": "display_data"
    }
   ],
   "source": [
    "#Plotting the number of ratins for each rating in a pie plot\n",
    "fig, ax = plt.subplots(figsize=(9, 9), subplot_kw=dict(aspect=\"equal\"), dpi= 80)\n",
    "\n",
    "df = pd.DataFrame(piePlotData)\n",
    "data1 = df['review_overall']\n",
    "categories = df.index\n",
    "explode = [0.05,0.05,0.05,0.05,0.05,0.05,0.05,0.05,0.05]\n",
    "\n",
    "def func(pct, allvals):\n",
    "    absolute = int(pct/100.*np.sum(allvals))\n",
    "    return \"{:.1f}% ({:d} )\".format(pct, absolute)\n",
    "\n",
    "wedges, texts, autotexts = ax.pie(data1, \n",
    "                                  autopct=lambda pct: func(pct, data1),\n",
    "                                  textprops=dict(color=\"b\"), \n",
    "                                  colors=plt.cm.Dark2.colors,\n",
    "                                 startangle=0,\n",
    "                                 explode=explode)\n",
    "\n",
    "# Decoration\n",
    "ax.legend(wedges, categories, title=\"Overall Rating \", loc=\"center left\", bbox_to_anchor=(1.2, 0, 0.5, 1))\n",
    "plt.setp(autotexts, size=10, weight=700)\n",
    "ax.set_title(\"Overall ratings: Pie Chart\")\n",
    "\n",
    "plt.show()"
   ]
  },
  {
   "cell_type": "markdown",
   "metadata": {},
   "source": [
    "#### As seen above, the higest portion of ratings received are for rating 4.0 with 37.5% records. Then comes rating 4.5 & then 3.5. The least number of records are for rating 1.0"
   ]
  },
  {
   "cell_type": "markdown",
   "metadata": {},
   "source": [
    "# Model Preparation"
   ]
  },
  {
   "cell_type": "markdown",
   "metadata": {},
   "source": [
    "### Dividing the dataset into train & test"
   ]
  },
  {
   "cell_type": "code",
   "execution_count": 37,
   "metadata": {},
   "outputs": [],
   "source": [
    "#Importing the test train split library\n",
    "from sklearn.model_selection import train_test_split"
   ]
  },
  {
   "cell_type": "code",
   "execution_count": 38,
   "metadata": {},
   "outputs": [],
   "source": [
    "#Splitting the data into test & train with 30% in test & 70% in train\n",
    "train, test = train_test_split(filtered_data, test_size=0.30, random_state=31)"
   ]
  },
  {
   "cell_type": "code",
   "execution_count": 39,
   "metadata": {},
   "outputs": [
    {
     "name": "stdout",
     "output_type": "stream",
     "text": [
      "(205937, 3)\n",
      "(88260, 3)\n"
     ]
    }
   ],
   "source": [
    "#Checking the shapes of the test & train datasets\n",
    "print(train.shape)\n",
    "print(test.shape)"
   ]
  },
  {
   "cell_type": "code",
   "execution_count": 40,
   "metadata": {},
   "outputs": [
    {
     "data": {
      "text/html": [
       "<div>\n",
       "<style scoped>\n",
       "    .dataframe tbody tr th:only-of-type {\n",
       "        vertical-align: middle;\n",
       "    }\n",
       "\n",
       "    .dataframe tbody tr th {\n",
       "        vertical-align: top;\n",
       "    }\n",
       "\n",
       "    .dataframe thead th {\n",
       "        text-align: right;\n",
       "    }\n",
       "</style>\n",
       "<table border=\"1\" class=\"dataframe\">\n",
       "  <thead>\n",
       "    <tr style=\"text-align: right;\">\n",
       "      <th></th>\n",
       "      <th>beer_beerid</th>\n",
       "      <th>review_profilename</th>\n",
       "      <th>review_overall</th>\n",
       "    </tr>\n",
       "  </thead>\n",
       "  <tbody>\n",
       "    <tr>\n",
       "      <th>162658</th>\n",
       "      <td>5948</td>\n",
       "      <td>TheEclecticGent</td>\n",
       "      <td>4.5</td>\n",
       "    </tr>\n",
       "    <tr>\n",
       "      <th>217111</th>\n",
       "      <td>2961</td>\n",
       "      <td>Franchise</td>\n",
       "      <td>4.0</td>\n",
       "    </tr>\n",
       "    <tr>\n",
       "      <th>29063</th>\n",
       "      <td>54089</td>\n",
       "      <td>Jayli</td>\n",
       "      <td>3.0</td>\n",
       "    </tr>\n",
       "    <tr>\n",
       "      <th>24752</th>\n",
       "      <td>3558</td>\n",
       "      <td>terrabyte</td>\n",
       "      <td>3.5</td>\n",
       "    </tr>\n",
       "    <tr>\n",
       "      <th>312729</th>\n",
       "      <td>20768</td>\n",
       "      <td>darklordlager</td>\n",
       "      <td>4.0</td>\n",
       "    </tr>\n",
       "  </tbody>\n",
       "</table>\n",
       "</div>"
      ],
      "text/plain": [
       "        beer_beerid review_profilename  review_overall\n",
       "162658         5948    TheEclecticGent             4.5\n",
       "217111         2961          Franchise             4.0\n",
       "29063         54089              Jayli             3.0\n",
       "24752          3558          terrabyte             3.5\n",
       "312729        20768      darklordlager             4.0"
      ]
     },
     "execution_count": 40,
     "metadata": {},
     "output_type": "execute_result"
    }
   ],
   "source": [
    "#Checking train data\n",
    "train.head()"
   ]
  },
  {
   "cell_type": "code",
   "execution_count": 41,
   "metadata": {},
   "outputs": [],
   "source": [
    "# pivot ratings into beer features\n",
    "df_beer_features = train.pivot(\n",
    "    index='review_profilename',\n",
    "    columns='beer_beerid',\n",
    "    values='review_overall'\n",
    ").fillna(0)"
   ]
  },
  {
   "cell_type": "code",
   "execution_count": 42,
   "metadata": {},
   "outputs": [
    {
     "data": {
      "text/html": [
       "<div>\n",
       "<style scoped>\n",
       "    .dataframe tbody tr th:only-of-type {\n",
       "        vertical-align: middle;\n",
       "    }\n",
       "\n",
       "    .dataframe tbody tr th {\n",
       "        vertical-align: top;\n",
       "    }\n",
       "\n",
       "    .dataframe thead th {\n",
       "        text-align: right;\n",
       "    }\n",
       "</style>\n",
       "<table border=\"1\" class=\"dataframe\">\n",
       "  <thead>\n",
       "    <tr style=\"text-align: right;\">\n",
       "      <th>beer_beerid</th>\n",
       "      <th>5</th>\n",
       "      <th>6</th>\n",
       "      <th>7</th>\n",
       "      <th>10</th>\n",
       "      <th>14</th>\n",
       "      <th>15</th>\n",
       "      <th>17</th>\n",
       "      <th>19</th>\n",
       "      <th>30</th>\n",
       "      <th>31</th>\n",
       "      <th>...</th>\n",
       "      <th>71919</th>\n",
       "      <th>71969</th>\n",
       "      <th>72138</th>\n",
       "      <th>73131</th>\n",
       "      <th>74123</th>\n",
       "      <th>74272</th>\n",
       "      <th>74323</th>\n",
       "      <th>74390</th>\n",
       "      <th>74986</th>\n",
       "      <th>75086</th>\n",
       "    </tr>\n",
       "    <tr>\n",
       "      <th>review_profilename</th>\n",
       "      <th></th>\n",
       "      <th></th>\n",
       "      <th></th>\n",
       "      <th></th>\n",
       "      <th></th>\n",
       "      <th></th>\n",
       "      <th></th>\n",
       "      <th></th>\n",
       "      <th></th>\n",
       "      <th></th>\n",
       "      <th></th>\n",
       "      <th></th>\n",
       "      <th></th>\n",
       "      <th></th>\n",
       "      <th></th>\n",
       "      <th></th>\n",
       "      <th></th>\n",
       "      <th></th>\n",
       "      <th></th>\n",
       "      <th></th>\n",
       "      <th></th>\n",
       "    </tr>\n",
       "  </thead>\n",
       "  <tbody>\n",
       "    <tr>\n",
       "      <th>0110x011</th>\n",
       "      <td>0.0</td>\n",
       "      <td>0.0</td>\n",
       "      <td>0.0</td>\n",
       "      <td>0.0</td>\n",
       "      <td>0.0</td>\n",
       "      <td>0.0</td>\n",
       "      <td>0.0</td>\n",
       "      <td>0.0</td>\n",
       "      <td>0.0</td>\n",
       "      <td>0.0</td>\n",
       "      <td>...</td>\n",
       "      <td>0.0</td>\n",
       "      <td>0.0</td>\n",
       "      <td>0.0</td>\n",
       "      <td>0.0</td>\n",
       "      <td>0.0</td>\n",
       "      <td>0.0</td>\n",
       "      <td>0.0</td>\n",
       "      <td>0.0</td>\n",
       "      <td>0.0</td>\n",
       "      <td>0.0</td>\n",
       "    </tr>\n",
       "    <tr>\n",
       "      <th>01Ryan10</th>\n",
       "      <td>0.0</td>\n",
       "      <td>0.0</td>\n",
       "      <td>0.0</td>\n",
       "      <td>0.0</td>\n",
       "      <td>0.0</td>\n",
       "      <td>0.0</td>\n",
       "      <td>0.0</td>\n",
       "      <td>0.0</td>\n",
       "      <td>0.0</td>\n",
       "      <td>0.0</td>\n",
       "      <td>...</td>\n",
       "      <td>0.0</td>\n",
       "      <td>0.0</td>\n",
       "      <td>0.0</td>\n",
       "      <td>0.0</td>\n",
       "      <td>0.0</td>\n",
       "      <td>0.0</td>\n",
       "      <td>0.0</td>\n",
       "      <td>0.0</td>\n",
       "      <td>0.0</td>\n",
       "      <td>0.0</td>\n",
       "    </tr>\n",
       "    <tr>\n",
       "      <th>04101Brewer</th>\n",
       "      <td>0.0</td>\n",
       "      <td>0.0</td>\n",
       "      <td>0.0</td>\n",
       "      <td>0.0</td>\n",
       "      <td>0.0</td>\n",
       "      <td>0.0</td>\n",
       "      <td>0.0</td>\n",
       "      <td>0.0</td>\n",
       "      <td>0.0</td>\n",
       "      <td>0.0</td>\n",
       "      <td>...</td>\n",
       "      <td>0.0</td>\n",
       "      <td>0.0</td>\n",
       "      <td>0.0</td>\n",
       "      <td>0.0</td>\n",
       "      <td>0.0</td>\n",
       "      <td>0.0</td>\n",
       "      <td>0.0</td>\n",
       "      <td>0.0</td>\n",
       "      <td>0.0</td>\n",
       "      <td>0.0</td>\n",
       "    </tr>\n",
       "    <tr>\n",
       "      <th>05Harley</th>\n",
       "      <td>0.0</td>\n",
       "      <td>0.0</td>\n",
       "      <td>0.0</td>\n",
       "      <td>0.0</td>\n",
       "      <td>0.0</td>\n",
       "      <td>0.0</td>\n",
       "      <td>0.0</td>\n",
       "      <td>0.0</td>\n",
       "      <td>0.0</td>\n",
       "      <td>0.0</td>\n",
       "      <td>...</td>\n",
       "      <td>0.0</td>\n",
       "      <td>0.0</td>\n",
       "      <td>0.0</td>\n",
       "      <td>0.0</td>\n",
       "      <td>0.0</td>\n",
       "      <td>0.0</td>\n",
       "      <td>0.0</td>\n",
       "      <td>0.0</td>\n",
       "      <td>0.0</td>\n",
       "      <td>0.0</td>\n",
       "    </tr>\n",
       "    <tr>\n",
       "      <th>0beerguy0</th>\n",
       "      <td>0.0</td>\n",
       "      <td>0.0</td>\n",
       "      <td>0.0</td>\n",
       "      <td>0.0</td>\n",
       "      <td>0.0</td>\n",
       "      <td>0.0</td>\n",
       "      <td>0.0</td>\n",
       "      <td>0.0</td>\n",
       "      <td>0.0</td>\n",
       "      <td>0.0</td>\n",
       "      <td>...</td>\n",
       "      <td>0.0</td>\n",
       "      <td>0.0</td>\n",
       "      <td>0.0</td>\n",
       "      <td>0.0</td>\n",
       "      <td>0.0</td>\n",
       "      <td>0.0</td>\n",
       "      <td>0.0</td>\n",
       "      <td>0.0</td>\n",
       "      <td>0.0</td>\n",
       "      <td>0.0</td>\n",
       "    </tr>\n",
       "  </tbody>\n",
       "</table>\n",
       "<p>5 rows × 2028 columns</p>\n",
       "</div>"
      ],
      "text/plain": [
       "beer_beerid         5      6      7      10     14     15     17     19     \\\n",
       "review_profilename                                                           \n",
       "0110x011              0.0    0.0    0.0    0.0    0.0    0.0    0.0    0.0   \n",
       "01Ryan10              0.0    0.0    0.0    0.0    0.0    0.0    0.0    0.0   \n",
       "04101Brewer           0.0    0.0    0.0    0.0    0.0    0.0    0.0    0.0   \n",
       "05Harley              0.0    0.0    0.0    0.0    0.0    0.0    0.0    0.0   \n",
       "0beerguy0             0.0    0.0    0.0    0.0    0.0    0.0    0.0    0.0   \n",
       "\n",
       "beer_beerid         30     31     ...    71919  71969  72138  73131  74123  \\\n",
       "review_profilename                ...                                        \n",
       "0110x011              0.0    0.0  ...      0.0    0.0    0.0    0.0    0.0   \n",
       "01Ryan10              0.0    0.0  ...      0.0    0.0    0.0    0.0    0.0   \n",
       "04101Brewer           0.0    0.0  ...      0.0    0.0    0.0    0.0    0.0   \n",
       "05Harley              0.0    0.0  ...      0.0    0.0    0.0    0.0    0.0   \n",
       "0beerguy0             0.0    0.0  ...      0.0    0.0    0.0    0.0    0.0   \n",
       "\n",
       "beer_beerid         74272  74323  74390  74986  75086  \n",
       "review_profilename                                     \n",
       "0110x011              0.0    0.0    0.0    0.0    0.0  \n",
       "01Ryan10              0.0    0.0    0.0    0.0    0.0  \n",
       "04101Brewer           0.0    0.0    0.0    0.0    0.0  \n",
       "05Harley              0.0    0.0    0.0    0.0    0.0  \n",
       "0beerguy0             0.0    0.0    0.0    0.0    0.0  \n",
       "\n",
       "[5 rows x 2028 columns]"
      ]
     },
     "execution_count": 42,
     "metadata": {},
     "output_type": "execute_result"
    }
   ],
   "source": [
    "#Checking pivoted beer data\n",
    "df_beer_features.head()"
   ]
  },
  {
   "cell_type": "markdown",
   "metadata": {},
   "source": [
    "### Copy train and test dataset\n",
    "These dataset will be used for prediction and evaluation. \n",
    "- Dummy train will be used later for prediction of the beer which has not been rated by the user. To ignore the beer rated by the user, we will mark it as 0 during prediction. The beer not rated by user is marked as 1 for prediction. \n",
    "- Dummy test will be used for evaluation. To evaluate, we will only make prediction on the beer rated by the user. So, this is marked as 1. This is just opposite of dummy_train"
   ]
  },
  {
   "cell_type": "code",
   "execution_count": 43,
   "metadata": {},
   "outputs": [],
   "source": [
    "#Creating copy of the datasets\n",
    "dummy_train = train.copy()\n",
    "dummy_test = test.copy()"
   ]
  },
  {
   "cell_type": "code",
   "execution_count": 44,
   "metadata": {},
   "outputs": [],
   "source": [
    "#Converting the ratings to 1/0 depending on the above logic\n",
    "dummy_train['review_overall'] = dummy_train['review_overall'].apply(lambda x: 0 if x>=1 else 1)\n",
    "dummy_test['review_overall'] = dummy_test['review_overall'].apply(lambda x: 1 if x>=1 else 0)"
   ]
  },
  {
   "cell_type": "code",
   "execution_count": 45,
   "metadata": {},
   "outputs": [
    {
     "data": {
      "text/html": [
       "<div>\n",
       "<style scoped>\n",
       "    .dataframe tbody tr th:only-of-type {\n",
       "        vertical-align: middle;\n",
       "    }\n",
       "\n",
       "    .dataframe tbody tr th {\n",
       "        vertical-align: top;\n",
       "    }\n",
       "\n",
       "    .dataframe thead th {\n",
       "        text-align: right;\n",
       "    }\n",
       "</style>\n",
       "<table border=\"1\" class=\"dataframe\">\n",
       "  <thead>\n",
       "    <tr style=\"text-align: right;\">\n",
       "      <th></th>\n",
       "      <th>beer_beerid</th>\n",
       "      <th>review_profilename</th>\n",
       "      <th>review_overall</th>\n",
       "    </tr>\n",
       "  </thead>\n",
       "  <tbody>\n",
       "    <tr>\n",
       "      <th>162658</th>\n",
       "      <td>5948</td>\n",
       "      <td>TheEclecticGent</td>\n",
       "      <td>0</td>\n",
       "    </tr>\n",
       "    <tr>\n",
       "      <th>217111</th>\n",
       "      <td>2961</td>\n",
       "      <td>Franchise</td>\n",
       "      <td>0</td>\n",
       "    </tr>\n",
       "    <tr>\n",
       "      <th>29063</th>\n",
       "      <td>54089</td>\n",
       "      <td>Jayli</td>\n",
       "      <td>0</td>\n",
       "    </tr>\n",
       "    <tr>\n",
       "      <th>24752</th>\n",
       "      <td>3558</td>\n",
       "      <td>terrabyte</td>\n",
       "      <td>0</td>\n",
       "    </tr>\n",
       "    <tr>\n",
       "      <th>312729</th>\n",
       "      <td>20768</td>\n",
       "      <td>darklordlager</td>\n",
       "      <td>0</td>\n",
       "    </tr>\n",
       "  </tbody>\n",
       "</table>\n",
       "</div>"
      ],
      "text/plain": [
       "        beer_beerid review_profilename  review_overall\n",
       "162658         5948    TheEclecticGent               0\n",
       "217111         2961          Franchise               0\n",
       "29063         54089              Jayli               0\n",
       "24752          3558          terrabyte               0\n",
       "312729        20768      darklordlager               0"
      ]
     },
     "execution_count": 45,
     "metadata": {},
     "output_type": "execute_result"
    }
   ],
   "source": [
    "#Checking first few rows of dummy_train\n",
    "dummy_train.head()"
   ]
  },
  {
   "cell_type": "code",
   "execution_count": 46,
   "metadata": {},
   "outputs": [
    {
     "data": {
      "text/html": [
       "<div>\n",
       "<style scoped>\n",
       "    .dataframe tbody tr th:only-of-type {\n",
       "        vertical-align: middle;\n",
       "    }\n",
       "\n",
       "    .dataframe tbody tr th {\n",
       "        vertical-align: top;\n",
       "    }\n",
       "\n",
       "    .dataframe thead th {\n",
       "        text-align: right;\n",
       "    }\n",
       "</style>\n",
       "<table border=\"1\" class=\"dataframe\">\n",
       "  <thead>\n",
       "    <tr style=\"text-align: right;\">\n",
       "      <th></th>\n",
       "      <th>beer_beerid</th>\n",
       "      <th>review_profilename</th>\n",
       "      <th>review_overall</th>\n",
       "    </tr>\n",
       "  </thead>\n",
       "  <tbody>\n",
       "    <tr>\n",
       "      <th>278679</th>\n",
       "      <td>2766</td>\n",
       "      <td>beerguy101</td>\n",
       "      <td>1</td>\n",
       "    </tr>\n",
       "    <tr>\n",
       "      <th>28522</th>\n",
       "      <td>30420</td>\n",
       "      <td>nrbw23</td>\n",
       "      <td>1</td>\n",
       "    </tr>\n",
       "    <tr>\n",
       "      <th>209402</th>\n",
       "      <td>6590</td>\n",
       "      <td>Kolsch</td>\n",
       "      <td>1</td>\n",
       "    </tr>\n",
       "    <tr>\n",
       "      <th>121311</th>\n",
       "      <td>12104</td>\n",
       "      <td>Deuane</td>\n",
       "      <td>1</td>\n",
       "    </tr>\n",
       "    <tr>\n",
       "      <th>70376</th>\n",
       "      <td>43341</td>\n",
       "      <td>JBON</td>\n",
       "      <td>1</td>\n",
       "    </tr>\n",
       "  </tbody>\n",
       "</table>\n",
       "</div>"
      ],
      "text/plain": [
       "        beer_beerid review_profilename  review_overall\n",
       "278679         2766         beerguy101               1\n",
       "28522         30420             nrbw23               1\n",
       "209402         6590             Kolsch               1\n",
       "121311        12104             Deuane               1\n",
       "70376         43341               JBON               1"
      ]
     },
     "execution_count": 46,
     "metadata": {},
     "output_type": "execute_result"
    }
   ],
   "source": [
    "#Checking first few rows of dummy_test\n",
    "dummy_test.head()"
   ]
  },
  {
   "cell_type": "code",
   "execution_count": 47,
   "metadata": {},
   "outputs": [],
   "source": [
    "# For dummy_train, the beers not rated by user is marked as 1 for prediction. \n",
    "dummy_train = dummy_train.pivot(\n",
    "    index='review_profilename',\n",
    "    columns='beer_beerid',\n",
    "    values='review_overall'\n",
    ").fillna(1)"
   ]
  },
  {
   "cell_type": "code",
   "execution_count": 48,
   "metadata": {},
   "outputs": [
    {
     "data": {
      "text/html": [
       "<div>\n",
       "<style scoped>\n",
       "    .dataframe tbody tr th:only-of-type {\n",
       "        vertical-align: middle;\n",
       "    }\n",
       "\n",
       "    .dataframe tbody tr th {\n",
       "        vertical-align: top;\n",
       "    }\n",
       "\n",
       "    .dataframe thead th {\n",
       "        text-align: right;\n",
       "    }\n",
       "</style>\n",
       "<table border=\"1\" class=\"dataframe\">\n",
       "  <thead>\n",
       "    <tr style=\"text-align: right;\">\n",
       "      <th>beer_beerid</th>\n",
       "      <th>5</th>\n",
       "      <th>6</th>\n",
       "      <th>7</th>\n",
       "      <th>10</th>\n",
       "      <th>14</th>\n",
       "      <th>15</th>\n",
       "      <th>17</th>\n",
       "      <th>19</th>\n",
       "      <th>30</th>\n",
       "      <th>31</th>\n",
       "      <th>...</th>\n",
       "      <th>71919</th>\n",
       "      <th>71969</th>\n",
       "      <th>72138</th>\n",
       "      <th>73131</th>\n",
       "      <th>74123</th>\n",
       "      <th>74272</th>\n",
       "      <th>74323</th>\n",
       "      <th>74390</th>\n",
       "      <th>74986</th>\n",
       "      <th>75086</th>\n",
       "    </tr>\n",
       "    <tr>\n",
       "      <th>review_profilename</th>\n",
       "      <th></th>\n",
       "      <th></th>\n",
       "      <th></th>\n",
       "      <th></th>\n",
       "      <th></th>\n",
       "      <th></th>\n",
       "      <th></th>\n",
       "      <th></th>\n",
       "      <th></th>\n",
       "      <th></th>\n",
       "      <th></th>\n",
       "      <th></th>\n",
       "      <th></th>\n",
       "      <th></th>\n",
       "      <th></th>\n",
       "      <th></th>\n",
       "      <th></th>\n",
       "      <th></th>\n",
       "      <th></th>\n",
       "      <th></th>\n",
       "      <th></th>\n",
       "    </tr>\n",
       "  </thead>\n",
       "  <tbody>\n",
       "    <tr>\n",
       "      <th>0110x011</th>\n",
       "      <td>1.0</td>\n",
       "      <td>1.0</td>\n",
       "      <td>1.0</td>\n",
       "      <td>1.0</td>\n",
       "      <td>1.0</td>\n",
       "      <td>1.0</td>\n",
       "      <td>1.0</td>\n",
       "      <td>1.0</td>\n",
       "      <td>1.0</td>\n",
       "      <td>1.0</td>\n",
       "      <td>...</td>\n",
       "      <td>1.0</td>\n",
       "      <td>1.0</td>\n",
       "      <td>1.0</td>\n",
       "      <td>1.0</td>\n",
       "      <td>1.0</td>\n",
       "      <td>1.0</td>\n",
       "      <td>1.0</td>\n",
       "      <td>1.0</td>\n",
       "      <td>1.0</td>\n",
       "      <td>1.0</td>\n",
       "    </tr>\n",
       "    <tr>\n",
       "      <th>01Ryan10</th>\n",
       "      <td>1.0</td>\n",
       "      <td>1.0</td>\n",
       "      <td>1.0</td>\n",
       "      <td>1.0</td>\n",
       "      <td>1.0</td>\n",
       "      <td>1.0</td>\n",
       "      <td>1.0</td>\n",
       "      <td>1.0</td>\n",
       "      <td>1.0</td>\n",
       "      <td>1.0</td>\n",
       "      <td>...</td>\n",
       "      <td>1.0</td>\n",
       "      <td>1.0</td>\n",
       "      <td>1.0</td>\n",
       "      <td>1.0</td>\n",
       "      <td>1.0</td>\n",
       "      <td>1.0</td>\n",
       "      <td>1.0</td>\n",
       "      <td>1.0</td>\n",
       "      <td>1.0</td>\n",
       "      <td>1.0</td>\n",
       "    </tr>\n",
       "    <tr>\n",
       "      <th>04101Brewer</th>\n",
       "      <td>1.0</td>\n",
       "      <td>1.0</td>\n",
       "      <td>1.0</td>\n",
       "      <td>1.0</td>\n",
       "      <td>1.0</td>\n",
       "      <td>1.0</td>\n",
       "      <td>1.0</td>\n",
       "      <td>1.0</td>\n",
       "      <td>1.0</td>\n",
       "      <td>1.0</td>\n",
       "      <td>...</td>\n",
       "      <td>1.0</td>\n",
       "      <td>1.0</td>\n",
       "      <td>1.0</td>\n",
       "      <td>1.0</td>\n",
       "      <td>1.0</td>\n",
       "      <td>1.0</td>\n",
       "      <td>1.0</td>\n",
       "      <td>1.0</td>\n",
       "      <td>1.0</td>\n",
       "      <td>1.0</td>\n",
       "    </tr>\n",
       "    <tr>\n",
       "      <th>05Harley</th>\n",
       "      <td>1.0</td>\n",
       "      <td>1.0</td>\n",
       "      <td>1.0</td>\n",
       "      <td>1.0</td>\n",
       "      <td>1.0</td>\n",
       "      <td>1.0</td>\n",
       "      <td>1.0</td>\n",
       "      <td>1.0</td>\n",
       "      <td>1.0</td>\n",
       "      <td>1.0</td>\n",
       "      <td>...</td>\n",
       "      <td>1.0</td>\n",
       "      <td>1.0</td>\n",
       "      <td>1.0</td>\n",
       "      <td>1.0</td>\n",
       "      <td>1.0</td>\n",
       "      <td>1.0</td>\n",
       "      <td>1.0</td>\n",
       "      <td>1.0</td>\n",
       "      <td>1.0</td>\n",
       "      <td>1.0</td>\n",
       "    </tr>\n",
       "    <tr>\n",
       "      <th>0beerguy0</th>\n",
       "      <td>1.0</td>\n",
       "      <td>1.0</td>\n",
       "      <td>1.0</td>\n",
       "      <td>1.0</td>\n",
       "      <td>1.0</td>\n",
       "      <td>1.0</td>\n",
       "      <td>1.0</td>\n",
       "      <td>1.0</td>\n",
       "      <td>1.0</td>\n",
       "      <td>1.0</td>\n",
       "      <td>...</td>\n",
       "      <td>1.0</td>\n",
       "      <td>1.0</td>\n",
       "      <td>1.0</td>\n",
       "      <td>1.0</td>\n",
       "      <td>1.0</td>\n",
       "      <td>1.0</td>\n",
       "      <td>1.0</td>\n",
       "      <td>1.0</td>\n",
       "      <td>1.0</td>\n",
       "      <td>1.0</td>\n",
       "    </tr>\n",
       "  </tbody>\n",
       "</table>\n",
       "<p>5 rows × 2028 columns</p>\n",
       "</div>"
      ],
      "text/plain": [
       "beer_beerid         5      6      7      10     14     15     17     19     \\\n",
       "review_profilename                                                           \n",
       "0110x011              1.0    1.0    1.0    1.0    1.0    1.0    1.0    1.0   \n",
       "01Ryan10              1.0    1.0    1.0    1.0    1.0    1.0    1.0    1.0   \n",
       "04101Brewer           1.0    1.0    1.0    1.0    1.0    1.0    1.0    1.0   \n",
       "05Harley              1.0    1.0    1.0    1.0    1.0    1.0    1.0    1.0   \n",
       "0beerguy0             1.0    1.0    1.0    1.0    1.0    1.0    1.0    1.0   \n",
       "\n",
       "beer_beerid         30     31     ...    71919  71969  72138  73131  74123  \\\n",
       "review_profilename                ...                                        \n",
       "0110x011              1.0    1.0  ...      1.0    1.0    1.0    1.0    1.0   \n",
       "01Ryan10              1.0    1.0  ...      1.0    1.0    1.0    1.0    1.0   \n",
       "04101Brewer           1.0    1.0  ...      1.0    1.0    1.0    1.0    1.0   \n",
       "05Harley              1.0    1.0  ...      1.0    1.0    1.0    1.0    1.0   \n",
       "0beerguy0             1.0    1.0  ...      1.0    1.0    1.0    1.0    1.0   \n",
       "\n",
       "beer_beerid         74272  74323  74390  74986  75086  \n",
       "review_profilename                                     \n",
       "0110x011              1.0    1.0    1.0    1.0    1.0  \n",
       "01Ryan10              1.0    1.0    1.0    1.0    1.0  \n",
       "04101Brewer           1.0    1.0    1.0    1.0    1.0  \n",
       "05Harley              1.0    1.0    1.0    1.0    1.0  \n",
       "0beerguy0             1.0    1.0    1.0    1.0    1.0  \n",
       "\n",
       "[5 rows x 2028 columns]"
      ]
     },
     "execution_count": 48,
     "metadata": {},
     "output_type": "execute_result"
    }
   ],
   "source": [
    "dummy_train.head()"
   ]
  },
  {
   "cell_type": "code",
   "execution_count": 49,
   "metadata": {},
   "outputs": [],
   "source": [
    "# For dummy_test, the beers not rated by user is marked as 0 for evaluation. \n",
    "dummy_test = dummy_test.pivot(\n",
    "    index='review_profilename',\n",
    "    columns='beer_beerid',\n",
    "    values='review_overall'\n",
    ").fillna(0)"
   ]
  },
  {
   "cell_type": "code",
   "execution_count": 50,
   "metadata": {},
   "outputs": [
    {
     "data": {
      "text/html": [
       "<div>\n",
       "<style scoped>\n",
       "    .dataframe tbody tr th:only-of-type {\n",
       "        vertical-align: middle;\n",
       "    }\n",
       "\n",
       "    .dataframe tbody tr th {\n",
       "        vertical-align: top;\n",
       "    }\n",
       "\n",
       "    .dataframe thead th {\n",
       "        text-align: right;\n",
       "    }\n",
       "</style>\n",
       "<table border=\"1\" class=\"dataframe\">\n",
       "  <thead>\n",
       "    <tr style=\"text-align: right;\">\n",
       "      <th>beer_beerid</th>\n",
       "      <th>5</th>\n",
       "      <th>6</th>\n",
       "      <th>7</th>\n",
       "      <th>10</th>\n",
       "      <th>14</th>\n",
       "      <th>15</th>\n",
       "      <th>17</th>\n",
       "      <th>19</th>\n",
       "      <th>30</th>\n",
       "      <th>31</th>\n",
       "      <th>...</th>\n",
       "      <th>71919</th>\n",
       "      <th>71969</th>\n",
       "      <th>72138</th>\n",
       "      <th>73131</th>\n",
       "      <th>74123</th>\n",
       "      <th>74272</th>\n",
       "      <th>74323</th>\n",
       "      <th>74390</th>\n",
       "      <th>74986</th>\n",
       "      <th>75086</th>\n",
       "    </tr>\n",
       "    <tr>\n",
       "      <th>review_profilename</th>\n",
       "      <th></th>\n",
       "      <th></th>\n",
       "      <th></th>\n",
       "      <th></th>\n",
       "      <th></th>\n",
       "      <th></th>\n",
       "      <th></th>\n",
       "      <th></th>\n",
       "      <th></th>\n",
       "      <th></th>\n",
       "      <th></th>\n",
       "      <th></th>\n",
       "      <th></th>\n",
       "      <th></th>\n",
       "      <th></th>\n",
       "      <th></th>\n",
       "      <th></th>\n",
       "      <th></th>\n",
       "      <th></th>\n",
       "      <th></th>\n",
       "      <th></th>\n",
       "    </tr>\n",
       "  </thead>\n",
       "  <tbody>\n",
       "    <tr>\n",
       "      <th>0110x011</th>\n",
       "      <td>0.0</td>\n",
       "      <td>0.0</td>\n",
       "      <td>0.0</td>\n",
       "      <td>0.0</td>\n",
       "      <td>0.0</td>\n",
       "      <td>0.0</td>\n",
       "      <td>0.0</td>\n",
       "      <td>0.0</td>\n",
       "      <td>0.0</td>\n",
       "      <td>0.0</td>\n",
       "      <td>...</td>\n",
       "      <td>0.0</td>\n",
       "      <td>0.0</td>\n",
       "      <td>0.0</td>\n",
       "      <td>0.0</td>\n",
       "      <td>0.0</td>\n",
       "      <td>0.0</td>\n",
       "      <td>0.0</td>\n",
       "      <td>0.0</td>\n",
       "      <td>0.0</td>\n",
       "      <td>0.0</td>\n",
       "    </tr>\n",
       "    <tr>\n",
       "      <th>05Harley</th>\n",
       "      <td>0.0</td>\n",
       "      <td>0.0</td>\n",
       "      <td>0.0</td>\n",
       "      <td>0.0</td>\n",
       "      <td>0.0</td>\n",
       "      <td>0.0</td>\n",
       "      <td>0.0</td>\n",
       "      <td>0.0</td>\n",
       "      <td>0.0</td>\n",
       "      <td>0.0</td>\n",
       "      <td>...</td>\n",
       "      <td>0.0</td>\n",
       "      <td>0.0</td>\n",
       "      <td>0.0</td>\n",
       "      <td>0.0</td>\n",
       "      <td>0.0</td>\n",
       "      <td>0.0</td>\n",
       "      <td>0.0</td>\n",
       "      <td>0.0</td>\n",
       "      <td>0.0</td>\n",
       "      <td>0.0</td>\n",
       "    </tr>\n",
       "    <tr>\n",
       "      <th>0tt0</th>\n",
       "      <td>0.0</td>\n",
       "      <td>0.0</td>\n",
       "      <td>0.0</td>\n",
       "      <td>0.0</td>\n",
       "      <td>0.0</td>\n",
       "      <td>0.0</td>\n",
       "      <td>0.0</td>\n",
       "      <td>0.0</td>\n",
       "      <td>0.0</td>\n",
       "      <td>0.0</td>\n",
       "      <td>...</td>\n",
       "      <td>0.0</td>\n",
       "      <td>0.0</td>\n",
       "      <td>0.0</td>\n",
       "      <td>0.0</td>\n",
       "      <td>0.0</td>\n",
       "      <td>0.0</td>\n",
       "      <td>0.0</td>\n",
       "      <td>0.0</td>\n",
       "      <td>0.0</td>\n",
       "      <td>0.0</td>\n",
       "    </tr>\n",
       "    <tr>\n",
       "      <th>1001111</th>\n",
       "      <td>0.0</td>\n",
       "      <td>0.0</td>\n",
       "      <td>0.0</td>\n",
       "      <td>0.0</td>\n",
       "      <td>0.0</td>\n",
       "      <td>0.0</td>\n",
       "      <td>0.0</td>\n",
       "      <td>0.0</td>\n",
       "      <td>0.0</td>\n",
       "      <td>0.0</td>\n",
       "      <td>...</td>\n",
       "      <td>0.0</td>\n",
       "      <td>0.0</td>\n",
       "      <td>0.0</td>\n",
       "      <td>0.0</td>\n",
       "      <td>0.0</td>\n",
       "      <td>0.0</td>\n",
       "      <td>0.0</td>\n",
       "      <td>0.0</td>\n",
       "      <td>0.0</td>\n",
       "      <td>0.0</td>\n",
       "    </tr>\n",
       "    <tr>\n",
       "      <th>100floods</th>\n",
       "      <td>0.0</td>\n",
       "      <td>0.0</td>\n",
       "      <td>0.0</td>\n",
       "      <td>0.0</td>\n",
       "      <td>0.0</td>\n",
       "      <td>0.0</td>\n",
       "      <td>0.0</td>\n",
       "      <td>0.0</td>\n",
       "      <td>0.0</td>\n",
       "      <td>0.0</td>\n",
       "      <td>...</td>\n",
       "      <td>0.0</td>\n",
       "      <td>0.0</td>\n",
       "      <td>0.0</td>\n",
       "      <td>0.0</td>\n",
       "      <td>0.0</td>\n",
       "      <td>0.0</td>\n",
       "      <td>0.0</td>\n",
       "      <td>0.0</td>\n",
       "      <td>0.0</td>\n",
       "      <td>0.0</td>\n",
       "    </tr>\n",
       "  </tbody>\n",
       "</table>\n",
       "<p>5 rows × 2028 columns</p>\n",
       "</div>"
      ],
      "text/plain": [
       "beer_beerid         5      6      7      10     14     15     17     19     \\\n",
       "review_profilename                                                           \n",
       "0110x011              0.0    0.0    0.0    0.0    0.0    0.0    0.0    0.0   \n",
       "05Harley              0.0    0.0    0.0    0.0    0.0    0.0    0.0    0.0   \n",
       "0tt0                  0.0    0.0    0.0    0.0    0.0    0.0    0.0    0.0   \n",
       "1001111               0.0    0.0    0.0    0.0    0.0    0.0    0.0    0.0   \n",
       "100floods             0.0    0.0    0.0    0.0    0.0    0.0    0.0    0.0   \n",
       "\n",
       "beer_beerid         30     31     ...    71919  71969  72138  73131  74123  \\\n",
       "review_profilename                ...                                        \n",
       "0110x011              0.0    0.0  ...      0.0    0.0    0.0    0.0    0.0   \n",
       "05Harley              0.0    0.0  ...      0.0    0.0    0.0    0.0    0.0   \n",
       "0tt0                  0.0    0.0  ...      0.0    0.0    0.0    0.0    0.0   \n",
       "1001111               0.0    0.0  ...      0.0    0.0    0.0    0.0    0.0   \n",
       "100floods             0.0    0.0  ...      0.0    0.0    0.0    0.0    0.0   \n",
       "\n",
       "beer_beerid         74272  74323  74390  74986  75086  \n",
       "review_profilename                                     \n",
       "0110x011              0.0    0.0    0.0    0.0    0.0  \n",
       "05Harley              0.0    0.0    0.0    0.0    0.0  \n",
       "0tt0                  0.0    0.0    0.0    0.0    0.0  \n",
       "1001111               0.0    0.0    0.0    0.0    0.0  \n",
       "100floods             0.0    0.0    0.0    0.0    0.0  \n",
       "\n",
       "[5 rows x 2028 columns]"
      ]
     },
     "execution_count": 50,
     "metadata": {},
     "output_type": "execute_result"
    }
   ],
   "source": [
    "#Checking dummy_test dataframe\n",
    "dummy_test.head()"
   ]
  },
  {
   "cell_type": "markdown",
   "metadata": {},
   "source": [
    "# Building User Similarity Matrix"
   ]
  },
  {
   "cell_type": "markdown",
   "metadata": {},
   "source": [
    "## Using Cosine Similarity"
   ]
  },
  {
   "cell_type": "code",
   "execution_count": 51,
   "metadata": {},
   "outputs": [
    {
     "name": "stdout",
     "output_type": "stream",
     "text": [
      "[[1. 0. 0. ... 0. 0. 0.]\n",
      " [0. 1. 0. ... 0. 0. 0.]\n",
      " [0. 0. 1. ... 0. 0. 0.]\n",
      " ...\n",
      " [0. 0. 0. ... 1. 0. 0.]\n",
      " [0. 0. 0. ... 0. 1. 0.]\n",
      " [0. 0. 0. ... 0. 0. 1.]]\n"
     ]
    }
   ],
   "source": [
    "from sklearn.metrics.pairwise import pairwise_distances\n",
    "\n",
    "# User Similarity Matrix\n",
    "user_correlation = 1 - pairwise_distances(df_beer_features, metric='cosine')\n",
    "user_correlation[np.isnan(user_correlation)] = 0\n",
    "print(user_correlation)"
   ]
  },
  {
   "cell_type": "code",
   "execution_count": 52,
   "metadata": {},
   "outputs": [
    {
     "data": {
      "text/plain": [
       "(17202, 17202)"
      ]
     },
     "execution_count": 52,
     "metadata": {},
     "output_type": "execute_result"
    }
   ],
   "source": [
    "#Checking user_correlation shape\n",
    "user_correlation.shape"
   ]
  },
  {
   "cell_type": "markdown",
   "metadata": {},
   "source": [
    "## Using adjusted Cosine "
   ]
  },
  {
   "cell_type": "markdown",
   "metadata": {},
   "source": [
    "### Here, not removing the NaN values and calculating the mean only for the beers rated by the user"
   ]
  },
  {
   "cell_type": "code",
   "execution_count": 53,
   "metadata": {},
   "outputs": [],
   "source": [
    "beer_features = train.pivot(\n",
    "    index='review_profilename',\n",
    "    columns='beer_beerid',\n",
    "    values='review_overall'\n",
    ")"
   ]
  },
  {
   "cell_type": "code",
   "execution_count": 54,
   "metadata": {},
   "outputs": [
    {
     "data": {
      "text/html": [
       "<div>\n",
       "<style scoped>\n",
       "    .dataframe tbody tr th:only-of-type {\n",
       "        vertical-align: middle;\n",
       "    }\n",
       "\n",
       "    .dataframe tbody tr th {\n",
       "        vertical-align: top;\n",
       "    }\n",
       "\n",
       "    .dataframe thead th {\n",
       "        text-align: right;\n",
       "    }\n",
       "</style>\n",
       "<table border=\"1\" class=\"dataframe\">\n",
       "  <thead>\n",
       "    <tr style=\"text-align: right;\">\n",
       "      <th>beer_beerid</th>\n",
       "      <th>5</th>\n",
       "      <th>6</th>\n",
       "      <th>7</th>\n",
       "      <th>10</th>\n",
       "      <th>14</th>\n",
       "      <th>15</th>\n",
       "      <th>17</th>\n",
       "      <th>19</th>\n",
       "      <th>30</th>\n",
       "      <th>31</th>\n",
       "      <th>...</th>\n",
       "      <th>71919</th>\n",
       "      <th>71969</th>\n",
       "      <th>72138</th>\n",
       "      <th>73131</th>\n",
       "      <th>74123</th>\n",
       "      <th>74272</th>\n",
       "      <th>74323</th>\n",
       "      <th>74390</th>\n",
       "      <th>74986</th>\n",
       "      <th>75086</th>\n",
       "    </tr>\n",
       "    <tr>\n",
       "      <th>review_profilename</th>\n",
       "      <th></th>\n",
       "      <th></th>\n",
       "      <th></th>\n",
       "      <th></th>\n",
       "      <th></th>\n",
       "      <th></th>\n",
       "      <th></th>\n",
       "      <th></th>\n",
       "      <th></th>\n",
       "      <th></th>\n",
       "      <th></th>\n",
       "      <th></th>\n",
       "      <th></th>\n",
       "      <th></th>\n",
       "      <th></th>\n",
       "      <th></th>\n",
       "      <th></th>\n",
       "      <th></th>\n",
       "      <th></th>\n",
       "      <th></th>\n",
       "      <th></th>\n",
       "    </tr>\n",
       "  </thead>\n",
       "  <tbody>\n",
       "    <tr>\n",
       "      <th>0110x011</th>\n",
       "      <td>NaN</td>\n",
       "      <td>NaN</td>\n",
       "      <td>NaN</td>\n",
       "      <td>NaN</td>\n",
       "      <td>NaN</td>\n",
       "      <td>NaN</td>\n",
       "      <td>NaN</td>\n",
       "      <td>NaN</td>\n",
       "      <td>NaN</td>\n",
       "      <td>NaN</td>\n",
       "      <td>...</td>\n",
       "      <td>NaN</td>\n",
       "      <td>NaN</td>\n",
       "      <td>NaN</td>\n",
       "      <td>NaN</td>\n",
       "      <td>NaN</td>\n",
       "      <td>NaN</td>\n",
       "      <td>NaN</td>\n",
       "      <td>NaN</td>\n",
       "      <td>NaN</td>\n",
       "      <td>NaN</td>\n",
       "    </tr>\n",
       "    <tr>\n",
       "      <th>01Ryan10</th>\n",
       "      <td>NaN</td>\n",
       "      <td>NaN</td>\n",
       "      <td>NaN</td>\n",
       "      <td>NaN</td>\n",
       "      <td>NaN</td>\n",
       "      <td>NaN</td>\n",
       "      <td>NaN</td>\n",
       "      <td>NaN</td>\n",
       "      <td>NaN</td>\n",
       "      <td>NaN</td>\n",
       "      <td>...</td>\n",
       "      <td>NaN</td>\n",
       "      <td>NaN</td>\n",
       "      <td>NaN</td>\n",
       "      <td>NaN</td>\n",
       "      <td>NaN</td>\n",
       "      <td>NaN</td>\n",
       "      <td>NaN</td>\n",
       "      <td>NaN</td>\n",
       "      <td>NaN</td>\n",
       "      <td>NaN</td>\n",
       "    </tr>\n",
       "    <tr>\n",
       "      <th>04101Brewer</th>\n",
       "      <td>NaN</td>\n",
       "      <td>NaN</td>\n",
       "      <td>NaN</td>\n",
       "      <td>NaN</td>\n",
       "      <td>NaN</td>\n",
       "      <td>NaN</td>\n",
       "      <td>NaN</td>\n",
       "      <td>NaN</td>\n",
       "      <td>NaN</td>\n",
       "      <td>NaN</td>\n",
       "      <td>...</td>\n",
       "      <td>NaN</td>\n",
       "      <td>NaN</td>\n",
       "      <td>NaN</td>\n",
       "      <td>NaN</td>\n",
       "      <td>NaN</td>\n",
       "      <td>NaN</td>\n",
       "      <td>NaN</td>\n",
       "      <td>NaN</td>\n",
       "      <td>NaN</td>\n",
       "      <td>NaN</td>\n",
       "    </tr>\n",
       "    <tr>\n",
       "      <th>05Harley</th>\n",
       "      <td>NaN</td>\n",
       "      <td>NaN</td>\n",
       "      <td>NaN</td>\n",
       "      <td>NaN</td>\n",
       "      <td>NaN</td>\n",
       "      <td>NaN</td>\n",
       "      <td>NaN</td>\n",
       "      <td>NaN</td>\n",
       "      <td>NaN</td>\n",
       "      <td>NaN</td>\n",
       "      <td>...</td>\n",
       "      <td>NaN</td>\n",
       "      <td>NaN</td>\n",
       "      <td>NaN</td>\n",
       "      <td>NaN</td>\n",
       "      <td>NaN</td>\n",
       "      <td>NaN</td>\n",
       "      <td>NaN</td>\n",
       "      <td>NaN</td>\n",
       "      <td>NaN</td>\n",
       "      <td>NaN</td>\n",
       "    </tr>\n",
       "    <tr>\n",
       "      <th>0beerguy0</th>\n",
       "      <td>NaN</td>\n",
       "      <td>NaN</td>\n",
       "      <td>NaN</td>\n",
       "      <td>NaN</td>\n",
       "      <td>NaN</td>\n",
       "      <td>NaN</td>\n",
       "      <td>NaN</td>\n",
       "      <td>NaN</td>\n",
       "      <td>NaN</td>\n",
       "      <td>NaN</td>\n",
       "      <td>...</td>\n",
       "      <td>NaN</td>\n",
       "      <td>NaN</td>\n",
       "      <td>NaN</td>\n",
       "      <td>NaN</td>\n",
       "      <td>NaN</td>\n",
       "      <td>NaN</td>\n",
       "      <td>NaN</td>\n",
       "      <td>NaN</td>\n",
       "      <td>NaN</td>\n",
       "      <td>NaN</td>\n",
       "    </tr>\n",
       "  </tbody>\n",
       "</table>\n",
       "<p>5 rows × 2028 columns</p>\n",
       "</div>"
      ],
      "text/plain": [
       "beer_beerid         5      6      7      10     14     15     17     19     \\\n",
       "review_profilename                                                           \n",
       "0110x011              NaN    NaN    NaN    NaN    NaN    NaN    NaN    NaN   \n",
       "01Ryan10              NaN    NaN    NaN    NaN    NaN    NaN    NaN    NaN   \n",
       "04101Brewer           NaN    NaN    NaN    NaN    NaN    NaN    NaN    NaN   \n",
       "05Harley              NaN    NaN    NaN    NaN    NaN    NaN    NaN    NaN   \n",
       "0beerguy0             NaN    NaN    NaN    NaN    NaN    NaN    NaN    NaN   \n",
       "\n",
       "beer_beerid         30     31     ...    71919  71969  72138  73131  74123  \\\n",
       "review_profilename                ...                                        \n",
       "0110x011              NaN    NaN  ...      NaN    NaN    NaN    NaN    NaN   \n",
       "01Ryan10              NaN    NaN  ...      NaN    NaN    NaN    NaN    NaN   \n",
       "04101Brewer           NaN    NaN  ...      NaN    NaN    NaN    NaN    NaN   \n",
       "05Harley              NaN    NaN  ...      NaN    NaN    NaN    NaN    NaN   \n",
       "0beerguy0             NaN    NaN  ...      NaN    NaN    NaN    NaN    NaN   \n",
       "\n",
       "beer_beerid         74272  74323  74390  74986  75086  \n",
       "review_profilename                                     \n",
       "0110x011              NaN    NaN    NaN    NaN    NaN  \n",
       "01Ryan10              NaN    NaN    NaN    NaN    NaN  \n",
       "04101Brewer           NaN    NaN    NaN    NaN    NaN  \n",
       "05Harley              NaN    NaN    NaN    NaN    NaN  \n",
       "0beerguy0             NaN    NaN    NaN    NaN    NaN  \n",
       "\n",
       "[5 rows x 2028 columns]"
      ]
     },
     "execution_count": 54,
     "metadata": {},
     "output_type": "execute_result"
    }
   ],
   "source": [
    "#checking beer_features dataframe\n",
    "beer_features.head()"
   ]
  },
  {
   "cell_type": "markdown",
   "metadata": {},
   "source": [
    "### Normalising the rating of the movie for each user aroung 0 mean"
   ]
  },
  {
   "cell_type": "code",
   "execution_count": 55,
   "metadata": {},
   "outputs": [],
   "source": [
    "mean = np.nanmean(beer_features, axis=1)\n",
    "df_subtracted = (beer_features.T-mean).T"
   ]
  },
  {
   "cell_type": "code",
   "execution_count": 56,
   "metadata": {},
   "outputs": [
    {
     "data": {
      "text/html": [
       "<div>\n",
       "<style scoped>\n",
       "    .dataframe tbody tr th:only-of-type {\n",
       "        vertical-align: middle;\n",
       "    }\n",
       "\n",
       "    .dataframe tbody tr th {\n",
       "        vertical-align: top;\n",
       "    }\n",
       "\n",
       "    .dataframe thead th {\n",
       "        text-align: right;\n",
       "    }\n",
       "</style>\n",
       "<table border=\"1\" class=\"dataframe\">\n",
       "  <thead>\n",
       "    <tr style=\"text-align: right;\">\n",
       "      <th>beer_beerid</th>\n",
       "      <th>5</th>\n",
       "      <th>6</th>\n",
       "      <th>7</th>\n",
       "      <th>10</th>\n",
       "      <th>14</th>\n",
       "      <th>15</th>\n",
       "      <th>17</th>\n",
       "      <th>19</th>\n",
       "      <th>30</th>\n",
       "      <th>31</th>\n",
       "      <th>...</th>\n",
       "      <th>71919</th>\n",
       "      <th>71969</th>\n",
       "      <th>72138</th>\n",
       "      <th>73131</th>\n",
       "      <th>74123</th>\n",
       "      <th>74272</th>\n",
       "      <th>74323</th>\n",
       "      <th>74390</th>\n",
       "      <th>74986</th>\n",
       "      <th>75086</th>\n",
       "    </tr>\n",
       "    <tr>\n",
       "      <th>review_profilename</th>\n",
       "      <th></th>\n",
       "      <th></th>\n",
       "      <th></th>\n",
       "      <th></th>\n",
       "      <th></th>\n",
       "      <th></th>\n",
       "      <th></th>\n",
       "      <th></th>\n",
       "      <th></th>\n",
       "      <th></th>\n",
       "      <th></th>\n",
       "      <th></th>\n",
       "      <th></th>\n",
       "      <th></th>\n",
       "      <th></th>\n",
       "      <th></th>\n",
       "      <th></th>\n",
       "      <th></th>\n",
       "      <th></th>\n",
       "      <th></th>\n",
       "      <th></th>\n",
       "    </tr>\n",
       "  </thead>\n",
       "  <tbody>\n",
       "    <tr>\n",
       "      <th>0110x011</th>\n",
       "      <td>NaN</td>\n",
       "      <td>NaN</td>\n",
       "      <td>NaN</td>\n",
       "      <td>NaN</td>\n",
       "      <td>NaN</td>\n",
       "      <td>NaN</td>\n",
       "      <td>NaN</td>\n",
       "      <td>NaN</td>\n",
       "      <td>NaN</td>\n",
       "      <td>NaN</td>\n",
       "      <td>...</td>\n",
       "      <td>NaN</td>\n",
       "      <td>NaN</td>\n",
       "      <td>NaN</td>\n",
       "      <td>NaN</td>\n",
       "      <td>NaN</td>\n",
       "      <td>NaN</td>\n",
       "      <td>NaN</td>\n",
       "      <td>NaN</td>\n",
       "      <td>NaN</td>\n",
       "      <td>NaN</td>\n",
       "    </tr>\n",
       "    <tr>\n",
       "      <th>01Ryan10</th>\n",
       "      <td>NaN</td>\n",
       "      <td>NaN</td>\n",
       "      <td>NaN</td>\n",
       "      <td>NaN</td>\n",
       "      <td>NaN</td>\n",
       "      <td>NaN</td>\n",
       "      <td>NaN</td>\n",
       "      <td>NaN</td>\n",
       "      <td>NaN</td>\n",
       "      <td>NaN</td>\n",
       "      <td>...</td>\n",
       "      <td>NaN</td>\n",
       "      <td>NaN</td>\n",
       "      <td>NaN</td>\n",
       "      <td>NaN</td>\n",
       "      <td>NaN</td>\n",
       "      <td>NaN</td>\n",
       "      <td>NaN</td>\n",
       "      <td>NaN</td>\n",
       "      <td>NaN</td>\n",
       "      <td>NaN</td>\n",
       "    </tr>\n",
       "    <tr>\n",
       "      <th>04101Brewer</th>\n",
       "      <td>NaN</td>\n",
       "      <td>NaN</td>\n",
       "      <td>NaN</td>\n",
       "      <td>NaN</td>\n",
       "      <td>NaN</td>\n",
       "      <td>NaN</td>\n",
       "      <td>NaN</td>\n",
       "      <td>NaN</td>\n",
       "      <td>NaN</td>\n",
       "      <td>NaN</td>\n",
       "      <td>...</td>\n",
       "      <td>NaN</td>\n",
       "      <td>NaN</td>\n",
       "      <td>NaN</td>\n",
       "      <td>NaN</td>\n",
       "      <td>NaN</td>\n",
       "      <td>NaN</td>\n",
       "      <td>NaN</td>\n",
       "      <td>NaN</td>\n",
       "      <td>NaN</td>\n",
       "      <td>NaN</td>\n",
       "    </tr>\n",
       "    <tr>\n",
       "      <th>05Harley</th>\n",
       "      <td>NaN</td>\n",
       "      <td>NaN</td>\n",
       "      <td>NaN</td>\n",
       "      <td>NaN</td>\n",
       "      <td>NaN</td>\n",
       "      <td>NaN</td>\n",
       "      <td>NaN</td>\n",
       "      <td>NaN</td>\n",
       "      <td>NaN</td>\n",
       "      <td>NaN</td>\n",
       "      <td>...</td>\n",
       "      <td>NaN</td>\n",
       "      <td>NaN</td>\n",
       "      <td>NaN</td>\n",
       "      <td>NaN</td>\n",
       "      <td>NaN</td>\n",
       "      <td>NaN</td>\n",
       "      <td>NaN</td>\n",
       "      <td>NaN</td>\n",
       "      <td>NaN</td>\n",
       "      <td>NaN</td>\n",
       "    </tr>\n",
       "    <tr>\n",
       "      <th>0beerguy0</th>\n",
       "      <td>NaN</td>\n",
       "      <td>NaN</td>\n",
       "      <td>NaN</td>\n",
       "      <td>NaN</td>\n",
       "      <td>NaN</td>\n",
       "      <td>NaN</td>\n",
       "      <td>NaN</td>\n",
       "      <td>NaN</td>\n",
       "      <td>NaN</td>\n",
       "      <td>NaN</td>\n",
       "      <td>...</td>\n",
       "      <td>NaN</td>\n",
       "      <td>NaN</td>\n",
       "      <td>NaN</td>\n",
       "      <td>NaN</td>\n",
       "      <td>NaN</td>\n",
       "      <td>NaN</td>\n",
       "      <td>NaN</td>\n",
       "      <td>NaN</td>\n",
       "      <td>NaN</td>\n",
       "      <td>NaN</td>\n",
       "    </tr>\n",
       "  </tbody>\n",
       "</table>\n",
       "<p>5 rows × 2028 columns</p>\n",
       "</div>"
      ],
      "text/plain": [
       "beer_beerid         5      6      7      10     14     15     17     19     \\\n",
       "review_profilename                                                           \n",
       "0110x011              NaN    NaN    NaN    NaN    NaN    NaN    NaN    NaN   \n",
       "01Ryan10              NaN    NaN    NaN    NaN    NaN    NaN    NaN    NaN   \n",
       "04101Brewer           NaN    NaN    NaN    NaN    NaN    NaN    NaN    NaN   \n",
       "05Harley              NaN    NaN    NaN    NaN    NaN    NaN    NaN    NaN   \n",
       "0beerguy0             NaN    NaN    NaN    NaN    NaN    NaN    NaN    NaN   \n",
       "\n",
       "beer_beerid         30     31     ...    71919  71969  72138  73131  74123  \\\n",
       "review_profilename                ...                                        \n",
       "0110x011              NaN    NaN  ...      NaN    NaN    NaN    NaN    NaN   \n",
       "01Ryan10              NaN    NaN  ...      NaN    NaN    NaN    NaN    NaN   \n",
       "04101Brewer           NaN    NaN  ...      NaN    NaN    NaN    NaN    NaN   \n",
       "05Harley              NaN    NaN  ...      NaN    NaN    NaN    NaN    NaN   \n",
       "0beerguy0             NaN    NaN  ...      NaN    NaN    NaN    NaN    NaN   \n",
       "\n",
       "beer_beerid         74272  74323  74390  74986  75086  \n",
       "review_profilename                                     \n",
       "0110x011              NaN    NaN    NaN    NaN    NaN  \n",
       "01Ryan10              NaN    NaN    NaN    NaN    NaN  \n",
       "04101Brewer           NaN    NaN    NaN    NaN    NaN  \n",
       "05Harley              NaN    NaN    NaN    NaN    NaN  \n",
       "0beerguy0             NaN    NaN    NaN    NaN    NaN  \n",
       "\n",
       "[5 rows x 2028 columns]"
      ]
     },
     "execution_count": 56,
     "metadata": {},
     "output_type": "execute_result"
    }
   ],
   "source": [
    "df_subtracted.head()"
   ]
  },
  {
   "cell_type": "markdown",
   "metadata": {},
   "source": [
    "### Finding cosine similarity"
   ]
  },
  {
   "cell_type": "code",
   "execution_count": 57,
   "metadata": {},
   "outputs": [
    {
     "name": "stdout",
     "output_type": "stream",
     "text": [
      "[[1. 0. 0. ... 0. 0. 0.]\n",
      " [0. 1. 0. ... 0. 0. 0.]\n",
      " [0. 0. 1. ... 0. 0. 0.]\n",
      " ...\n",
      " [0. 0. 0. ... 1. 0. 0.]\n",
      " [0. 0. 0. ... 0. 1. 0.]\n",
      " [0. 0. 0. ... 0. 0. 1.]]\n"
     ]
    }
   ],
   "source": [
    "from sklearn.metrics.pairwise import pairwise_distances\n",
    "\n",
    "# User Similarity Matrix\n",
    "user_correlation = 1 - pairwise_distances(df_subtracted.fillna(0), metric='cosine')\n",
    "user_correlation[np.isnan(user_correlation)] = 0\n",
    "print(user_correlation)"
   ]
  },
  {
   "cell_type": "markdown",
   "metadata": {},
   "source": [
    "## Prediction"
   ]
  },
  {
   "cell_type": "markdown",
   "metadata": {},
   "source": [
    "Doing the prediction for the users which are positively related with other users, and not the users which are negatively related as we are interested in the users which are more similar to the current users. So, ignoring the correlation for values less than 0. "
   ]
  },
  {
   "cell_type": "code",
   "execution_count": 58,
   "metadata": {},
   "outputs": [
    {
     "data": {
      "text/plain": [
       "array([[1., 0., 0., ..., 0., 0., 0.],\n",
       "       [0., 1., 0., ..., 0., 0., 0.],\n",
       "       [0., 0., 1., ..., 0., 0., 0.],\n",
       "       ...,\n",
       "       [0., 0., 0., ..., 1., 0., 0.],\n",
       "       [0., 0., 0., ..., 0., 1., 0.],\n",
       "       [0., 0., 0., ..., 0., 0., 1.]])"
      ]
     },
     "execution_count": 58,
     "metadata": {},
     "output_type": "execute_result"
    }
   ],
   "source": [
    "user_correlation[user_correlation<0]=0\n",
    "user_correlation"
   ]
  },
  {
   "cell_type": "markdown",
   "metadata": {},
   "source": [
    "Rating predicted by the user (for beers rated as well as not rated) is the weighted sum of correlation with the beer rating (as present in the rating dataset). "
   ]
  },
  {
   "cell_type": "code",
   "execution_count": 59,
   "metadata": {},
   "outputs": [
    {
     "data": {
      "text/plain": [
       "array([[1.18210979, 2.39586718, 2.00712931, ..., 1.30620554, 2.19226756,\n",
       "        1.58426839],\n",
       "       [0.        , 0.        , 0.        , ..., 0.        , 0.        ,\n",
       "        0.        ],\n",
       "       [0.        , 0.        , 0.        , ..., 0.        , 0.        ,\n",
       "        0.        ],\n",
       "       ...,\n",
       "       [0.        , 0.        , 0.        , ..., 0.        , 0.        ,\n",
       "        0.        ],\n",
       "       [0.56729534, 5.22367115, 2.53076101, ..., 0.44452145, 0.71906464,\n",
       "        2.19279431],\n",
       "       [0.        , 0.        , 0.        , ..., 0.        , 0.        ,\n",
       "        0.        ]])"
      ]
     },
     "execution_count": 59,
     "metadata": {},
     "output_type": "execute_result"
    }
   ],
   "source": [
    "user_predicted_ratings = np.dot(user_correlation, beer_features.fillna(0))\n",
    "user_predicted_ratings"
   ]
  },
  {
   "cell_type": "code",
   "execution_count": 60,
   "metadata": {},
   "outputs": [
    {
     "data": {
      "text/plain": [
       "(17202, 2028)"
      ]
     },
     "execution_count": 60,
     "metadata": {},
     "output_type": "execute_result"
    }
   ],
   "source": [
    "user_predicted_ratings.shape"
   ]
  },
  {
   "cell_type": "markdown",
   "metadata": {},
   "source": [
    "Since we are interested only in the beers not rated by the user, we will ignore the beers rated by the user by making it zero. "
   ]
  },
  {
   "cell_type": "code",
   "execution_count": 61,
   "metadata": {},
   "outputs": [
    {
     "data": {
      "text/html": [
       "<div>\n",
       "<style scoped>\n",
       "    .dataframe tbody tr th:only-of-type {\n",
       "        vertical-align: middle;\n",
       "    }\n",
       "\n",
       "    .dataframe tbody tr th {\n",
       "        vertical-align: top;\n",
       "    }\n",
       "\n",
       "    .dataframe thead th {\n",
       "        text-align: right;\n",
       "    }\n",
       "</style>\n",
       "<table border=\"1\" class=\"dataframe\">\n",
       "  <thead>\n",
       "    <tr style=\"text-align: right;\">\n",
       "      <th>beer_beerid</th>\n",
       "      <th>5</th>\n",
       "      <th>6</th>\n",
       "      <th>7</th>\n",
       "      <th>10</th>\n",
       "      <th>14</th>\n",
       "      <th>15</th>\n",
       "      <th>17</th>\n",
       "      <th>19</th>\n",
       "      <th>30</th>\n",
       "      <th>31</th>\n",
       "      <th>...</th>\n",
       "      <th>71919</th>\n",
       "      <th>71969</th>\n",
       "      <th>72138</th>\n",
       "      <th>73131</th>\n",
       "      <th>74123</th>\n",
       "      <th>74272</th>\n",
       "      <th>74323</th>\n",
       "      <th>74390</th>\n",
       "      <th>74986</th>\n",
       "      <th>75086</th>\n",
       "    </tr>\n",
       "    <tr>\n",
       "      <th>review_profilename</th>\n",
       "      <th></th>\n",
       "      <th></th>\n",
       "      <th></th>\n",
       "      <th></th>\n",
       "      <th></th>\n",
       "      <th></th>\n",
       "      <th></th>\n",
       "      <th></th>\n",
       "      <th></th>\n",
       "      <th></th>\n",
       "      <th></th>\n",
       "      <th></th>\n",
       "      <th></th>\n",
       "      <th></th>\n",
       "      <th></th>\n",
       "      <th></th>\n",
       "      <th></th>\n",
       "      <th></th>\n",
       "      <th></th>\n",
       "      <th></th>\n",
       "      <th></th>\n",
       "    </tr>\n",
       "  </thead>\n",
       "  <tbody>\n",
       "    <tr>\n",
       "      <th>0110x011</th>\n",
       "      <td>1.182110</td>\n",
       "      <td>2.395867</td>\n",
       "      <td>2.007129</td>\n",
       "      <td>2.383969</td>\n",
       "      <td>0.117704</td>\n",
       "      <td>1.158166</td>\n",
       "      <td>2.348213</td>\n",
       "      <td>1.834791</td>\n",
       "      <td>5.900556</td>\n",
       "      <td>3.069009</td>\n",
       "      <td>...</td>\n",
       "      <td>0.807601</td>\n",
       "      <td>2.263625</td>\n",
       "      <td>6.130013</td>\n",
       "      <td>0.537544</td>\n",
       "      <td>0.302546</td>\n",
       "      <td>0.470864</td>\n",
       "      <td>1.041869</td>\n",
       "      <td>1.306206</td>\n",
       "      <td>2.192268</td>\n",
       "      <td>1.584268</td>\n",
       "    </tr>\n",
       "    <tr>\n",
       "      <th>01Ryan10</th>\n",
       "      <td>0.000000</td>\n",
       "      <td>0.000000</td>\n",
       "      <td>0.000000</td>\n",
       "      <td>0.000000</td>\n",
       "      <td>0.000000</td>\n",
       "      <td>0.000000</td>\n",
       "      <td>0.000000</td>\n",
       "      <td>0.000000</td>\n",
       "      <td>0.000000</td>\n",
       "      <td>0.000000</td>\n",
       "      <td>...</td>\n",
       "      <td>0.000000</td>\n",
       "      <td>0.000000</td>\n",
       "      <td>0.000000</td>\n",
       "      <td>0.000000</td>\n",
       "      <td>0.000000</td>\n",
       "      <td>0.000000</td>\n",
       "      <td>0.000000</td>\n",
       "      <td>0.000000</td>\n",
       "      <td>0.000000</td>\n",
       "      <td>0.000000</td>\n",
       "    </tr>\n",
       "    <tr>\n",
       "      <th>04101Brewer</th>\n",
       "      <td>0.000000</td>\n",
       "      <td>0.000000</td>\n",
       "      <td>0.000000</td>\n",
       "      <td>0.000000</td>\n",
       "      <td>0.000000</td>\n",
       "      <td>0.000000</td>\n",
       "      <td>0.000000</td>\n",
       "      <td>0.000000</td>\n",
       "      <td>0.000000</td>\n",
       "      <td>0.000000</td>\n",
       "      <td>...</td>\n",
       "      <td>0.000000</td>\n",
       "      <td>0.000000</td>\n",
       "      <td>0.000000</td>\n",
       "      <td>0.000000</td>\n",
       "      <td>0.000000</td>\n",
       "      <td>0.000000</td>\n",
       "      <td>0.000000</td>\n",
       "      <td>0.000000</td>\n",
       "      <td>0.000000</td>\n",
       "      <td>0.000000</td>\n",
       "    </tr>\n",
       "    <tr>\n",
       "      <th>05Harley</th>\n",
       "      <td>1.431752</td>\n",
       "      <td>4.224999</td>\n",
       "      <td>2.486638</td>\n",
       "      <td>5.221106</td>\n",
       "      <td>0.468807</td>\n",
       "      <td>1.552946</td>\n",
       "      <td>4.277244</td>\n",
       "      <td>2.620628</td>\n",
       "      <td>12.121386</td>\n",
       "      <td>4.876519</td>\n",
       "      <td>...</td>\n",
       "      <td>2.092030</td>\n",
       "      <td>2.979623</td>\n",
       "      <td>7.615892</td>\n",
       "      <td>1.598967</td>\n",
       "      <td>2.103561</td>\n",
       "      <td>2.601054</td>\n",
       "      <td>2.245057</td>\n",
       "      <td>0.755234</td>\n",
       "      <td>4.726285</td>\n",
       "      <td>2.286082</td>\n",
       "    </tr>\n",
       "    <tr>\n",
       "      <th>0beerguy0</th>\n",
       "      <td>0.667724</td>\n",
       "      <td>2.713345</td>\n",
       "      <td>1.434856</td>\n",
       "      <td>2.287425</td>\n",
       "      <td>1.973061</td>\n",
       "      <td>0.338014</td>\n",
       "      <td>2.287190</td>\n",
       "      <td>0.928182</td>\n",
       "      <td>2.797073</td>\n",
       "      <td>3.126014</td>\n",
       "      <td>...</td>\n",
       "      <td>0.000000</td>\n",
       "      <td>0.428374</td>\n",
       "      <td>0.762840</td>\n",
       "      <td>0.229627</td>\n",
       "      <td>0.620361</td>\n",
       "      <td>0.219960</td>\n",
       "      <td>0.062112</td>\n",
       "      <td>0.442603</td>\n",
       "      <td>0.242318</td>\n",
       "      <td>0.293490</td>\n",
       "    </tr>\n",
       "  </tbody>\n",
       "</table>\n",
       "<p>5 rows × 2028 columns</p>\n",
       "</div>"
      ],
      "text/plain": [
       "beer_beerid            5         6         7         10        14     \\\n",
       "review_profilename                                                     \n",
       "0110x011            1.182110  2.395867  2.007129  2.383969  0.117704   \n",
       "01Ryan10            0.000000  0.000000  0.000000  0.000000  0.000000   \n",
       "04101Brewer         0.000000  0.000000  0.000000  0.000000  0.000000   \n",
       "05Harley            1.431752  4.224999  2.486638  5.221106  0.468807   \n",
       "0beerguy0           0.667724  2.713345  1.434856  2.287425  1.973061   \n",
       "\n",
       "beer_beerid            15        17        19         30        31     \\\n",
       "review_profilename                                                      \n",
       "0110x011            1.158166  2.348213  1.834791   5.900556  3.069009   \n",
       "01Ryan10            0.000000  0.000000  0.000000   0.000000  0.000000   \n",
       "04101Brewer         0.000000  0.000000  0.000000   0.000000  0.000000   \n",
       "05Harley            1.552946  4.277244  2.620628  12.121386  4.876519   \n",
       "0beerguy0           0.338014  2.287190  0.928182   2.797073  3.126014   \n",
       "\n",
       "beer_beerid           ...        71919     71969     72138     73131  \\\n",
       "review_profilename    ...                                              \n",
       "0110x011              ...     0.807601  2.263625  6.130013  0.537544   \n",
       "01Ryan10              ...     0.000000  0.000000  0.000000  0.000000   \n",
       "04101Brewer           ...     0.000000  0.000000  0.000000  0.000000   \n",
       "05Harley              ...     2.092030  2.979623  7.615892  1.598967   \n",
       "0beerguy0             ...     0.000000  0.428374  0.762840  0.229627   \n",
       "\n",
       "beer_beerid            74123     74272     74323     74390     74986     75086  \n",
       "review_profilename                                                              \n",
       "0110x011            0.302546  0.470864  1.041869  1.306206  2.192268  1.584268  \n",
       "01Ryan10            0.000000  0.000000  0.000000  0.000000  0.000000  0.000000  \n",
       "04101Brewer         0.000000  0.000000  0.000000  0.000000  0.000000  0.000000  \n",
       "05Harley            2.103561  2.601054  2.245057  0.755234  4.726285  2.286082  \n",
       "0beerguy0           0.620361  0.219960  0.062112  0.442603  0.242318  0.293490  \n",
       "\n",
       "[5 rows x 2028 columns]"
      ]
     },
     "execution_count": 61,
     "metadata": {},
     "output_type": "execute_result"
    }
   ],
   "source": [
    "user_final_rating = np.multiply(user_predicted_ratings,dummy_train)\n",
    "user_final_rating.head()"
   ]
  },
  {
   "cell_type": "markdown",
   "metadata": {},
   "source": [
    "### Finding the top 5 recommendation for the user 3"
   ]
  },
  {
   "cell_type": "code",
   "execution_count": 62,
   "metadata": {},
   "outputs": [
    {
     "data": {
      "text/plain": [
       "beer_beerid\n",
       "412      30.017483\n",
       "17112    28.251250\n",
       "4083     27.088169\n",
       "19960    26.874796\n",
       "1904     24.497512\n",
       "Name: 05Harley, dtype: float64"
      ]
     },
     "execution_count": 62,
     "metadata": {},
     "output_type": "execute_result"
    }
   ],
   "source": [
    "user_final_rating.iloc[3].sort_values(ascending=False)[0:5]"
   ]
  },
  {
   "cell_type": "markdown",
   "metadata": {},
   "source": [
    "As we see above, the top 5 recommendations for user 3 are beers with beer ID 412, 17112, 4083, 19960, 1904"
   ]
  },
  {
   "cell_type": "markdown",
   "metadata": {},
   "source": [
    "# Item Based Similarity"
   ]
  },
  {
   "cell_type": "markdown",
   "metadata": {},
   "source": [
    "Using Correlation"
   ]
  },
  {
   "cell_type": "markdown",
   "metadata": {},
   "source": [
    "Taking the transpose of the rating matrix to normalize the rating around the mean for different beer ID. In the user based similarity, we had taken mean for each user intead of each beer. "
   ]
  },
  {
   "cell_type": "code",
   "execution_count": 63,
   "metadata": {},
   "outputs": [
    {
     "data": {
      "text/html": [
       "<div>\n",
       "<style scoped>\n",
       "    .dataframe tbody tr th:only-of-type {\n",
       "        vertical-align: middle;\n",
       "    }\n",
       "\n",
       "    .dataframe tbody tr th {\n",
       "        vertical-align: top;\n",
       "    }\n",
       "\n",
       "    .dataframe thead th {\n",
       "        text-align: right;\n",
       "    }\n",
       "</style>\n",
       "<table border=\"1\" class=\"dataframe\">\n",
       "  <thead>\n",
       "    <tr style=\"text-align: right;\">\n",
       "      <th>review_profilename</th>\n",
       "      <th>0110x011</th>\n",
       "      <th>01Ryan10</th>\n",
       "      <th>04101Brewer</th>\n",
       "      <th>05Harley</th>\n",
       "      <th>0beerguy0</th>\n",
       "      <th>0runkp0s</th>\n",
       "      <th>0tt0</th>\n",
       "      <th>1000Bottles</th>\n",
       "      <th>100floods</th>\n",
       "      <th>1050Sudz</th>\n",
       "      <th>...</th>\n",
       "      <th>zuffenhausen</th>\n",
       "      <th>zuggy9</th>\n",
       "      <th>zulufactor</th>\n",
       "      <th>zwalk8</th>\n",
       "      <th>zymrgy</th>\n",
       "      <th>zymurgy4all</th>\n",
       "      <th>zymurgywhiz</th>\n",
       "      <th>zythus</th>\n",
       "      <th>zyzygy</th>\n",
       "      <th>zzajjber</th>\n",
       "    </tr>\n",
       "    <tr>\n",
       "      <th>beer_beerid</th>\n",
       "      <th></th>\n",
       "      <th></th>\n",
       "      <th></th>\n",
       "      <th></th>\n",
       "      <th></th>\n",
       "      <th></th>\n",
       "      <th></th>\n",
       "      <th></th>\n",
       "      <th></th>\n",
       "      <th></th>\n",
       "      <th></th>\n",
       "      <th></th>\n",
       "      <th></th>\n",
       "      <th></th>\n",
       "      <th></th>\n",
       "      <th></th>\n",
       "      <th></th>\n",
       "      <th></th>\n",
       "      <th></th>\n",
       "      <th></th>\n",
       "      <th></th>\n",
       "    </tr>\n",
       "  </thead>\n",
       "  <tbody>\n",
       "    <tr>\n",
       "      <th>5</th>\n",
       "      <td>NaN</td>\n",
       "      <td>NaN</td>\n",
       "      <td>NaN</td>\n",
       "      <td>NaN</td>\n",
       "      <td>NaN</td>\n",
       "      <td>NaN</td>\n",
       "      <td>NaN</td>\n",
       "      <td>NaN</td>\n",
       "      <td>NaN</td>\n",
       "      <td>NaN</td>\n",
       "      <td>...</td>\n",
       "      <td>NaN</td>\n",
       "      <td>NaN</td>\n",
       "      <td>NaN</td>\n",
       "      <td>NaN</td>\n",
       "      <td>NaN</td>\n",
       "      <td>NaN</td>\n",
       "      <td>NaN</td>\n",
       "      <td>NaN</td>\n",
       "      <td>NaN</td>\n",
       "      <td>NaN</td>\n",
       "    </tr>\n",
       "    <tr>\n",
       "      <th>6</th>\n",
       "      <td>NaN</td>\n",
       "      <td>NaN</td>\n",
       "      <td>NaN</td>\n",
       "      <td>NaN</td>\n",
       "      <td>NaN</td>\n",
       "      <td>NaN</td>\n",
       "      <td>NaN</td>\n",
       "      <td>NaN</td>\n",
       "      <td>NaN</td>\n",
       "      <td>NaN</td>\n",
       "      <td>...</td>\n",
       "      <td>NaN</td>\n",
       "      <td>NaN</td>\n",
       "      <td>NaN</td>\n",
       "      <td>NaN</td>\n",
       "      <td>NaN</td>\n",
       "      <td>NaN</td>\n",
       "      <td>NaN</td>\n",
       "      <td>NaN</td>\n",
       "      <td>NaN</td>\n",
       "      <td>NaN</td>\n",
       "    </tr>\n",
       "    <tr>\n",
       "      <th>7</th>\n",
       "      <td>NaN</td>\n",
       "      <td>NaN</td>\n",
       "      <td>NaN</td>\n",
       "      <td>NaN</td>\n",
       "      <td>NaN</td>\n",
       "      <td>NaN</td>\n",
       "      <td>NaN</td>\n",
       "      <td>NaN</td>\n",
       "      <td>NaN</td>\n",
       "      <td>NaN</td>\n",
       "      <td>...</td>\n",
       "      <td>NaN</td>\n",
       "      <td>NaN</td>\n",
       "      <td>NaN</td>\n",
       "      <td>NaN</td>\n",
       "      <td>NaN</td>\n",
       "      <td>NaN</td>\n",
       "      <td>NaN</td>\n",
       "      <td>NaN</td>\n",
       "      <td>NaN</td>\n",
       "      <td>NaN</td>\n",
       "    </tr>\n",
       "    <tr>\n",
       "      <th>10</th>\n",
       "      <td>NaN</td>\n",
       "      <td>NaN</td>\n",
       "      <td>NaN</td>\n",
       "      <td>NaN</td>\n",
       "      <td>NaN</td>\n",
       "      <td>NaN</td>\n",
       "      <td>NaN</td>\n",
       "      <td>NaN</td>\n",
       "      <td>NaN</td>\n",
       "      <td>NaN</td>\n",
       "      <td>...</td>\n",
       "      <td>NaN</td>\n",
       "      <td>NaN</td>\n",
       "      <td>NaN</td>\n",
       "      <td>NaN</td>\n",
       "      <td>NaN</td>\n",
       "      <td>NaN</td>\n",
       "      <td>NaN</td>\n",
       "      <td>NaN</td>\n",
       "      <td>NaN</td>\n",
       "      <td>NaN</td>\n",
       "    </tr>\n",
       "    <tr>\n",
       "      <th>14</th>\n",
       "      <td>NaN</td>\n",
       "      <td>NaN</td>\n",
       "      <td>NaN</td>\n",
       "      <td>NaN</td>\n",
       "      <td>NaN</td>\n",
       "      <td>NaN</td>\n",
       "      <td>NaN</td>\n",
       "      <td>NaN</td>\n",
       "      <td>NaN</td>\n",
       "      <td>NaN</td>\n",
       "      <td>...</td>\n",
       "      <td>NaN</td>\n",
       "      <td>NaN</td>\n",
       "      <td>NaN</td>\n",
       "      <td>NaN</td>\n",
       "      <td>NaN</td>\n",
       "      <td>NaN</td>\n",
       "      <td>NaN</td>\n",
       "      <td>NaN</td>\n",
       "      <td>NaN</td>\n",
       "      <td>NaN</td>\n",
       "    </tr>\n",
       "  </tbody>\n",
       "</table>\n",
       "<p>5 rows × 17202 columns</p>\n",
       "</div>"
      ],
      "text/plain": [
       "review_profilename  0110x011  01Ryan10  04101Brewer  05Harley  0beerguy0  \\\n",
       "beer_beerid                                                                \n",
       "5                        NaN       NaN          NaN       NaN        NaN   \n",
       "6                        NaN       NaN          NaN       NaN        NaN   \n",
       "7                        NaN       NaN          NaN       NaN        NaN   \n",
       "10                       NaN       NaN          NaN       NaN        NaN   \n",
       "14                       NaN       NaN          NaN       NaN        NaN   \n",
       "\n",
       "review_profilename  0runkp0s  0tt0  1000Bottles  100floods  1050Sudz  \\\n",
       "beer_beerid                                                            \n",
       "5                        NaN   NaN          NaN        NaN       NaN   \n",
       "6                        NaN   NaN          NaN        NaN       NaN   \n",
       "7                        NaN   NaN          NaN        NaN       NaN   \n",
       "10                       NaN   NaN          NaN        NaN       NaN   \n",
       "14                       NaN   NaN          NaN        NaN       NaN   \n",
       "\n",
       "review_profilename    ...     zuffenhausen  zuggy9  zulufactor  zwalk8  \\\n",
       "beer_beerid           ...                                                \n",
       "5                     ...              NaN     NaN         NaN     NaN   \n",
       "6                     ...              NaN     NaN         NaN     NaN   \n",
       "7                     ...              NaN     NaN         NaN     NaN   \n",
       "10                    ...              NaN     NaN         NaN     NaN   \n",
       "14                    ...              NaN     NaN         NaN     NaN   \n",
       "\n",
       "review_profilename  zymrgy  zymurgy4all  zymurgywhiz  zythus  zyzygy  zzajjber  \n",
       "beer_beerid                                                                     \n",
       "5                      NaN          NaN          NaN     NaN     NaN       NaN  \n",
       "6                      NaN          NaN          NaN     NaN     NaN       NaN  \n",
       "7                      NaN          NaN          NaN     NaN     NaN       NaN  \n",
       "10                     NaN          NaN          NaN     NaN     NaN       NaN  \n",
       "14                     NaN          NaN          NaN     NaN     NaN       NaN  \n",
       "\n",
       "[5 rows x 17202 columns]"
      ]
     },
     "execution_count": 63,
     "metadata": {},
     "output_type": "execute_result"
    }
   ],
   "source": [
    "beer_features = train.pivot(\n",
    "    index='review_profilename',\n",
    "    columns='beer_beerid',\n",
    "    values='review_overall'\n",
    ").T\n",
    "\n",
    "beer_features.head()"
   ]
  },
  {
   "cell_type": "markdown",
   "metadata": {},
   "source": [
    "Normalising the beer rating for each beer"
   ]
  },
  {
   "cell_type": "code",
   "execution_count": 64,
   "metadata": {},
   "outputs": [],
   "source": [
    "mean = np.nanmean(beer_features, axis=1)\n",
    "df_subtracted = (beer_features.T-mean).T"
   ]
  },
  {
   "cell_type": "code",
   "execution_count": 65,
   "metadata": {},
   "outputs": [
    {
     "data": {
      "text/html": [
       "<div>\n",
       "<style scoped>\n",
       "    .dataframe tbody tr th:only-of-type {\n",
       "        vertical-align: middle;\n",
       "    }\n",
       "\n",
       "    .dataframe tbody tr th {\n",
       "        vertical-align: top;\n",
       "    }\n",
       "\n",
       "    .dataframe thead th {\n",
       "        text-align: right;\n",
       "    }\n",
       "</style>\n",
       "<table border=\"1\" class=\"dataframe\">\n",
       "  <thead>\n",
       "    <tr style=\"text-align: right;\">\n",
       "      <th>review_profilename</th>\n",
       "      <th>0110x011</th>\n",
       "      <th>01Ryan10</th>\n",
       "      <th>04101Brewer</th>\n",
       "      <th>05Harley</th>\n",
       "      <th>0beerguy0</th>\n",
       "      <th>0runkp0s</th>\n",
       "      <th>0tt0</th>\n",
       "      <th>1000Bottles</th>\n",
       "      <th>100floods</th>\n",
       "      <th>1050Sudz</th>\n",
       "      <th>...</th>\n",
       "      <th>zuffenhausen</th>\n",
       "      <th>zuggy9</th>\n",
       "      <th>zulufactor</th>\n",
       "      <th>zwalk8</th>\n",
       "      <th>zymrgy</th>\n",
       "      <th>zymurgy4all</th>\n",
       "      <th>zymurgywhiz</th>\n",
       "      <th>zythus</th>\n",
       "      <th>zyzygy</th>\n",
       "      <th>zzajjber</th>\n",
       "    </tr>\n",
       "    <tr>\n",
       "      <th>beer_beerid</th>\n",
       "      <th></th>\n",
       "      <th></th>\n",
       "      <th></th>\n",
       "      <th></th>\n",
       "      <th></th>\n",
       "      <th></th>\n",
       "      <th></th>\n",
       "      <th></th>\n",
       "      <th></th>\n",
       "      <th></th>\n",
       "      <th></th>\n",
       "      <th></th>\n",
       "      <th></th>\n",
       "      <th></th>\n",
       "      <th></th>\n",
       "      <th></th>\n",
       "      <th></th>\n",
       "      <th></th>\n",
       "      <th></th>\n",
       "      <th></th>\n",
       "      <th></th>\n",
       "    </tr>\n",
       "  </thead>\n",
       "  <tbody>\n",
       "    <tr>\n",
       "      <th>5</th>\n",
       "      <td>NaN</td>\n",
       "      <td>NaN</td>\n",
       "      <td>NaN</td>\n",
       "      <td>NaN</td>\n",
       "      <td>NaN</td>\n",
       "      <td>NaN</td>\n",
       "      <td>NaN</td>\n",
       "      <td>NaN</td>\n",
       "      <td>NaN</td>\n",
       "      <td>NaN</td>\n",
       "      <td>...</td>\n",
       "      <td>NaN</td>\n",
       "      <td>NaN</td>\n",
       "      <td>NaN</td>\n",
       "      <td>NaN</td>\n",
       "      <td>NaN</td>\n",
       "      <td>NaN</td>\n",
       "      <td>NaN</td>\n",
       "      <td>NaN</td>\n",
       "      <td>NaN</td>\n",
       "      <td>NaN</td>\n",
       "    </tr>\n",
       "    <tr>\n",
       "      <th>6</th>\n",
       "      <td>NaN</td>\n",
       "      <td>NaN</td>\n",
       "      <td>NaN</td>\n",
       "      <td>NaN</td>\n",
       "      <td>NaN</td>\n",
       "      <td>NaN</td>\n",
       "      <td>NaN</td>\n",
       "      <td>NaN</td>\n",
       "      <td>NaN</td>\n",
       "      <td>NaN</td>\n",
       "      <td>...</td>\n",
       "      <td>NaN</td>\n",
       "      <td>NaN</td>\n",
       "      <td>NaN</td>\n",
       "      <td>NaN</td>\n",
       "      <td>NaN</td>\n",
       "      <td>NaN</td>\n",
       "      <td>NaN</td>\n",
       "      <td>NaN</td>\n",
       "      <td>NaN</td>\n",
       "      <td>NaN</td>\n",
       "    </tr>\n",
       "    <tr>\n",
       "      <th>7</th>\n",
       "      <td>NaN</td>\n",
       "      <td>NaN</td>\n",
       "      <td>NaN</td>\n",
       "      <td>NaN</td>\n",
       "      <td>NaN</td>\n",
       "      <td>NaN</td>\n",
       "      <td>NaN</td>\n",
       "      <td>NaN</td>\n",
       "      <td>NaN</td>\n",
       "      <td>NaN</td>\n",
       "      <td>...</td>\n",
       "      <td>NaN</td>\n",
       "      <td>NaN</td>\n",
       "      <td>NaN</td>\n",
       "      <td>NaN</td>\n",
       "      <td>NaN</td>\n",
       "      <td>NaN</td>\n",
       "      <td>NaN</td>\n",
       "      <td>NaN</td>\n",
       "      <td>NaN</td>\n",
       "      <td>NaN</td>\n",
       "    </tr>\n",
       "    <tr>\n",
       "      <th>10</th>\n",
       "      <td>NaN</td>\n",
       "      <td>NaN</td>\n",
       "      <td>NaN</td>\n",
       "      <td>NaN</td>\n",
       "      <td>NaN</td>\n",
       "      <td>NaN</td>\n",
       "      <td>NaN</td>\n",
       "      <td>NaN</td>\n",
       "      <td>NaN</td>\n",
       "      <td>NaN</td>\n",
       "      <td>...</td>\n",
       "      <td>NaN</td>\n",
       "      <td>NaN</td>\n",
       "      <td>NaN</td>\n",
       "      <td>NaN</td>\n",
       "      <td>NaN</td>\n",
       "      <td>NaN</td>\n",
       "      <td>NaN</td>\n",
       "      <td>NaN</td>\n",
       "      <td>NaN</td>\n",
       "      <td>NaN</td>\n",
       "    </tr>\n",
       "    <tr>\n",
       "      <th>14</th>\n",
       "      <td>NaN</td>\n",
       "      <td>NaN</td>\n",
       "      <td>NaN</td>\n",
       "      <td>NaN</td>\n",
       "      <td>NaN</td>\n",
       "      <td>NaN</td>\n",
       "      <td>NaN</td>\n",
       "      <td>NaN</td>\n",
       "      <td>NaN</td>\n",
       "      <td>NaN</td>\n",
       "      <td>...</td>\n",
       "      <td>NaN</td>\n",
       "      <td>NaN</td>\n",
       "      <td>NaN</td>\n",
       "      <td>NaN</td>\n",
       "      <td>NaN</td>\n",
       "      <td>NaN</td>\n",
       "      <td>NaN</td>\n",
       "      <td>NaN</td>\n",
       "      <td>NaN</td>\n",
       "      <td>NaN</td>\n",
       "    </tr>\n",
       "  </tbody>\n",
       "</table>\n",
       "<p>5 rows × 17202 columns</p>\n",
       "</div>"
      ],
      "text/plain": [
       "review_profilename  0110x011  01Ryan10  04101Brewer  05Harley  0beerguy0  \\\n",
       "beer_beerid                                                                \n",
       "5                        NaN       NaN          NaN       NaN        NaN   \n",
       "6                        NaN       NaN          NaN       NaN        NaN   \n",
       "7                        NaN       NaN          NaN       NaN        NaN   \n",
       "10                       NaN       NaN          NaN       NaN        NaN   \n",
       "14                       NaN       NaN          NaN       NaN        NaN   \n",
       "\n",
       "review_profilename  0runkp0s  0tt0  1000Bottles  100floods  1050Sudz  \\\n",
       "beer_beerid                                                            \n",
       "5                        NaN   NaN          NaN        NaN       NaN   \n",
       "6                        NaN   NaN          NaN        NaN       NaN   \n",
       "7                        NaN   NaN          NaN        NaN       NaN   \n",
       "10                       NaN   NaN          NaN        NaN       NaN   \n",
       "14                       NaN   NaN          NaN        NaN       NaN   \n",
       "\n",
       "review_profilename    ...     zuffenhausen  zuggy9  zulufactor  zwalk8  \\\n",
       "beer_beerid           ...                                                \n",
       "5                     ...              NaN     NaN         NaN     NaN   \n",
       "6                     ...              NaN     NaN         NaN     NaN   \n",
       "7                     ...              NaN     NaN         NaN     NaN   \n",
       "10                    ...              NaN     NaN         NaN     NaN   \n",
       "14                    ...              NaN     NaN         NaN     NaN   \n",
       "\n",
       "review_profilename  zymrgy  zymurgy4all  zymurgywhiz  zythus  zyzygy  zzajjber  \n",
       "beer_beerid                                                                     \n",
       "5                      NaN          NaN          NaN     NaN     NaN       NaN  \n",
       "6                      NaN          NaN          NaN     NaN     NaN       NaN  \n",
       "7                      NaN          NaN          NaN     NaN     NaN       NaN  \n",
       "10                     NaN          NaN          NaN     NaN     NaN       NaN  \n",
       "14                     NaN          NaN          NaN     NaN     NaN       NaN  \n",
       "\n",
       "[5 rows x 17202 columns]"
      ]
     },
     "execution_count": 65,
     "metadata": {},
     "output_type": "execute_result"
    }
   ],
   "source": [
    "df_subtracted.head()"
   ]
  },
  {
   "cell_type": "markdown",
   "metadata": {},
   "source": [
    "Finding the cosine similarity. Note that since the data is normalised, both the cosine metric and correlation metric will give the same value. "
   ]
  },
  {
   "cell_type": "code",
   "execution_count": 66,
   "metadata": {},
   "outputs": [
    {
     "name": "stdout",
     "output_type": "stream",
     "text": [
      "[[ 1.00000000e+00  8.29686245e-03  2.31720924e-03 ...  7.95984223e-05\n",
      "   1.41341239e-02 -3.28010645e-03]\n",
      " [ 8.29686245e-03  1.00000000e+00  1.74066299e-03 ... -1.34282657e-02\n",
      "   2.26833774e-03  4.21673842e-03]\n",
      " [ 2.31720924e-03  1.74066299e-03  1.00000000e+00 ...  0.00000000e+00\n",
      "   8.66663720e-04  2.16803081e-02]\n",
      " ...\n",
      " [ 7.95984223e-05 -1.34282657e-02  0.00000000e+00 ...  1.00000000e+00\n",
      "   9.49920731e-03  2.53744976e-02]\n",
      " [ 1.41341239e-02  2.26833774e-03  8.66663720e-04 ...  9.49920731e-03\n",
      "   1.00000000e+00 -1.74653081e-02]\n",
      " [-3.28010645e-03  4.21673842e-03  2.16803081e-02 ...  2.53744976e-02\n",
      "  -1.74653081e-02  1.00000000e+00]]\n"
     ]
    }
   ],
   "source": [
    "from sklearn.metrics.pairwise import pairwise_distances\n",
    "\n",
    "# User Similarity Matrix\n",
    "item_correlation = 1 - pairwise_distances(df_subtracted.fillna(0), metric='cosine')\n",
    "item_correlation[np.isnan(item_correlation)] = 0\n",
    "print(item_correlation)"
   ]
  },
  {
   "cell_type": "markdown",
   "metadata": {},
   "source": [
    "Filtering the correlation only for which the value is greater than 0. (Positively correlated)"
   ]
  },
  {
   "cell_type": "code",
   "execution_count": 67,
   "metadata": {},
   "outputs": [
    {
     "data": {
      "text/plain": [
       "array([[1.00000000e+00, 8.29686245e-03, 2.31720924e-03, ...,\n",
       "        7.95984223e-05, 1.41341239e-02, 0.00000000e+00],\n",
       "       [8.29686245e-03, 1.00000000e+00, 1.74066299e-03, ...,\n",
       "        0.00000000e+00, 2.26833774e-03, 4.21673842e-03],\n",
       "       [2.31720924e-03, 1.74066299e-03, 1.00000000e+00, ...,\n",
       "        0.00000000e+00, 8.66663720e-04, 2.16803081e-02],\n",
       "       ...,\n",
       "       [7.95984223e-05, 0.00000000e+00, 0.00000000e+00, ...,\n",
       "        1.00000000e+00, 9.49920731e-03, 2.53744976e-02],\n",
       "       [1.41341239e-02, 2.26833774e-03, 8.66663720e-04, ...,\n",
       "        9.49920731e-03, 1.00000000e+00, 0.00000000e+00],\n",
       "       [0.00000000e+00, 4.21673842e-03, 2.16803081e-02, ...,\n",
       "        2.53744976e-02, 0.00000000e+00, 1.00000000e+00]])"
      ]
     },
     "execution_count": 67,
     "metadata": {},
     "output_type": "execute_result"
    }
   ],
   "source": [
    "item_correlation[item_correlation<0]=0\n",
    "item_correlation"
   ]
  },
  {
   "cell_type": "markdown",
   "metadata": {},
   "source": [
    "# Prediction"
   ]
  },
  {
   "cell_type": "code",
   "execution_count": 68,
   "metadata": {},
   "outputs": [
    {
     "data": {
      "text/plain": [
       "array([[0.0994061 , 0.87828887, 0.90919557, ..., 0.61956095, 0.73947902,\n",
       "        0.84775993],\n",
       "       [0.        , 0.        , 0.04009755, ..., 0.17084681, 0.08474766,\n",
       "        0.        ],\n",
       "       [0.        , 0.05553946, 0.02182215, ..., 0.        , 0.        ,\n",
       "        0.10862397],\n",
       "       ...,\n",
       "       [0.15924966, 0.        , 0.09191914, ..., 0.04902684, 0.13055952,\n",
       "        0.07705083],\n",
       "       [0.00274526, 0.18399622, 0.05598312, ..., 0.        , 0.02388247,\n",
       "        0.09404912],\n",
       "       [0.        , 0.02822365, 0.03963099, ..., 0.        , 0.        ,\n",
       "        0.        ]])"
      ]
     },
     "execution_count": 68,
     "metadata": {},
     "output_type": "execute_result"
    }
   ],
   "source": [
    "item_predicted_ratings = np.dot((beer_features.fillna(0).T),item_correlation)\n",
    "item_predicted_ratings"
   ]
  },
  {
   "cell_type": "code",
   "execution_count": 69,
   "metadata": {},
   "outputs": [
    {
     "data": {
      "text/plain": [
       "(17202, 2028)"
      ]
     },
     "execution_count": 69,
     "metadata": {},
     "output_type": "execute_result"
    }
   ],
   "source": [
    "item_predicted_ratings.shape"
   ]
  },
  {
   "cell_type": "code",
   "execution_count": 70,
   "metadata": {},
   "outputs": [
    {
     "data": {
      "text/plain": [
       "(17202, 2028)"
      ]
     },
     "execution_count": 70,
     "metadata": {},
     "output_type": "execute_result"
    }
   ],
   "source": [
    "dummy_train.shape"
   ]
  },
  {
   "cell_type": "markdown",
   "metadata": {},
   "source": [
    "### Filtering the rating only for the beers not rated by the user for recommendation"
   ]
  },
  {
   "cell_type": "code",
   "execution_count": 71,
   "metadata": {},
   "outputs": [
    {
     "data": {
      "text/html": [
       "<div>\n",
       "<style scoped>\n",
       "    .dataframe tbody tr th:only-of-type {\n",
       "        vertical-align: middle;\n",
       "    }\n",
       "\n",
       "    .dataframe tbody tr th {\n",
       "        vertical-align: top;\n",
       "    }\n",
       "\n",
       "    .dataframe thead th {\n",
       "        text-align: right;\n",
       "    }\n",
       "</style>\n",
       "<table border=\"1\" class=\"dataframe\">\n",
       "  <thead>\n",
       "    <tr style=\"text-align: right;\">\n",
       "      <th>beer_beerid</th>\n",
       "      <th>5</th>\n",
       "      <th>6</th>\n",
       "      <th>7</th>\n",
       "      <th>10</th>\n",
       "      <th>14</th>\n",
       "      <th>15</th>\n",
       "      <th>17</th>\n",
       "      <th>19</th>\n",
       "      <th>30</th>\n",
       "      <th>31</th>\n",
       "      <th>...</th>\n",
       "      <th>71919</th>\n",
       "      <th>71969</th>\n",
       "      <th>72138</th>\n",
       "      <th>73131</th>\n",
       "      <th>74123</th>\n",
       "      <th>74272</th>\n",
       "      <th>74323</th>\n",
       "      <th>74390</th>\n",
       "      <th>74986</th>\n",
       "      <th>75086</th>\n",
       "    </tr>\n",
       "    <tr>\n",
       "      <th>review_profilename</th>\n",
       "      <th></th>\n",
       "      <th></th>\n",
       "      <th></th>\n",
       "      <th></th>\n",
       "      <th></th>\n",
       "      <th></th>\n",
       "      <th></th>\n",
       "      <th></th>\n",
       "      <th></th>\n",
       "      <th></th>\n",
       "      <th></th>\n",
       "      <th></th>\n",
       "      <th></th>\n",
       "      <th></th>\n",
       "      <th></th>\n",
       "      <th></th>\n",
       "      <th></th>\n",
       "      <th></th>\n",
       "      <th></th>\n",
       "      <th></th>\n",
       "      <th></th>\n",
       "    </tr>\n",
       "  </thead>\n",
       "  <tbody>\n",
       "    <tr>\n",
       "      <th>0110x011</th>\n",
       "      <td>0.099406</td>\n",
       "      <td>0.878289</td>\n",
       "      <td>0.909196</td>\n",
       "      <td>0.593557</td>\n",
       "      <td>0.803908</td>\n",
       "      <td>0.460722</td>\n",
       "      <td>0.428624</td>\n",
       "      <td>0.204372</td>\n",
       "      <td>0.995046</td>\n",
       "      <td>0.774910</td>\n",
       "      <td>...</td>\n",
       "      <td>0.849710</td>\n",
       "      <td>0.470616</td>\n",
       "      <td>0.890109</td>\n",
       "      <td>0.609071</td>\n",
       "      <td>0.218864</td>\n",
       "      <td>0.409848</td>\n",
       "      <td>0.107322</td>\n",
       "      <td>0.619561</td>\n",
       "      <td>0.739479</td>\n",
       "      <td>0.847760</td>\n",
       "    </tr>\n",
       "    <tr>\n",
       "      <th>01Ryan10</th>\n",
       "      <td>0.000000</td>\n",
       "      <td>0.000000</td>\n",
       "      <td>0.040098</td>\n",
       "      <td>0.000000</td>\n",
       "      <td>0.000000</td>\n",
       "      <td>0.000000</td>\n",
       "      <td>0.064517</td>\n",
       "      <td>0.000000</td>\n",
       "      <td>0.024697</td>\n",
       "      <td>0.000000</td>\n",
       "      <td>...</td>\n",
       "      <td>0.374977</td>\n",
       "      <td>0.000000</td>\n",
       "      <td>0.000000</td>\n",
       "      <td>0.000000</td>\n",
       "      <td>0.000000</td>\n",
       "      <td>0.000000</td>\n",
       "      <td>0.000000</td>\n",
       "      <td>0.170847</td>\n",
       "      <td>0.084748</td>\n",
       "      <td>0.000000</td>\n",
       "    </tr>\n",
       "    <tr>\n",
       "      <th>04101Brewer</th>\n",
       "      <td>0.000000</td>\n",
       "      <td>0.055539</td>\n",
       "      <td>0.021822</td>\n",
       "      <td>0.039627</td>\n",
       "      <td>0.000000</td>\n",
       "      <td>0.000000</td>\n",
       "      <td>0.000000</td>\n",
       "      <td>0.000000</td>\n",
       "      <td>0.071548</td>\n",
       "      <td>0.183827</td>\n",
       "      <td>...</td>\n",
       "      <td>0.000000</td>\n",
       "      <td>0.000000</td>\n",
       "      <td>0.103284</td>\n",
       "      <td>0.019016</td>\n",
       "      <td>0.000000</td>\n",
       "      <td>0.000000</td>\n",
       "      <td>0.000000</td>\n",
       "      <td>0.000000</td>\n",
       "      <td>0.000000</td>\n",
       "      <td>0.108624</td>\n",
       "    </tr>\n",
       "    <tr>\n",
       "      <th>05Harley</th>\n",
       "      <td>0.902619</td>\n",
       "      <td>0.842791</td>\n",
       "      <td>0.851105</td>\n",
       "      <td>0.847210</td>\n",
       "      <td>0.332496</td>\n",
       "      <td>0.242188</td>\n",
       "      <td>0.565839</td>\n",
       "      <td>0.470758</td>\n",
       "      <td>0.862658</td>\n",
       "      <td>0.668880</td>\n",
       "      <td>...</td>\n",
       "      <td>0.584657</td>\n",
       "      <td>0.807530</td>\n",
       "      <td>0.889584</td>\n",
       "      <td>0.995129</td>\n",
       "      <td>0.112249</td>\n",
       "      <td>0.858225</td>\n",
       "      <td>0.527618</td>\n",
       "      <td>0.315805</td>\n",
       "      <td>0.915341</td>\n",
       "      <td>0.546106</td>\n",
       "    </tr>\n",
       "    <tr>\n",
       "      <th>0beerguy0</th>\n",
       "      <td>0.058605</td>\n",
       "      <td>0.292626</td>\n",
       "      <td>0.119413</td>\n",
       "      <td>0.318746</td>\n",
       "      <td>0.121850</td>\n",
       "      <td>0.282048</td>\n",
       "      <td>0.127374</td>\n",
       "      <td>0.030503</td>\n",
       "      <td>0.031454</td>\n",
       "      <td>0.133798</td>\n",
       "      <td>...</td>\n",
       "      <td>0.000000</td>\n",
       "      <td>0.000000</td>\n",
       "      <td>0.018010</td>\n",
       "      <td>0.009327</td>\n",
       "      <td>0.064900</td>\n",
       "      <td>0.020712</td>\n",
       "      <td>0.000000</td>\n",
       "      <td>0.033577</td>\n",
       "      <td>0.018466</td>\n",
       "      <td>0.049536</td>\n",
       "    </tr>\n",
       "  </tbody>\n",
       "</table>\n",
       "<p>5 rows × 2028 columns</p>\n",
       "</div>"
      ],
      "text/plain": [
       "beer_beerid            5         6         7         10        14     \\\n",
       "review_profilename                                                     \n",
       "0110x011            0.099406  0.878289  0.909196  0.593557  0.803908   \n",
       "01Ryan10            0.000000  0.000000  0.040098  0.000000  0.000000   \n",
       "04101Brewer         0.000000  0.055539  0.021822  0.039627  0.000000   \n",
       "05Harley            0.902619  0.842791  0.851105  0.847210  0.332496   \n",
       "0beerguy0           0.058605  0.292626  0.119413  0.318746  0.121850   \n",
       "\n",
       "beer_beerid            15        17        19        30        31     \\\n",
       "review_profilename                                                     \n",
       "0110x011            0.460722  0.428624  0.204372  0.995046  0.774910   \n",
       "01Ryan10            0.000000  0.064517  0.000000  0.024697  0.000000   \n",
       "04101Brewer         0.000000  0.000000  0.000000  0.071548  0.183827   \n",
       "05Harley            0.242188  0.565839  0.470758  0.862658  0.668880   \n",
       "0beerguy0           0.282048  0.127374  0.030503  0.031454  0.133798   \n",
       "\n",
       "beer_beerid           ...        71919     71969     72138     73131  \\\n",
       "review_profilename    ...                                              \n",
       "0110x011              ...     0.849710  0.470616  0.890109  0.609071   \n",
       "01Ryan10              ...     0.374977  0.000000  0.000000  0.000000   \n",
       "04101Brewer           ...     0.000000  0.000000  0.103284  0.019016   \n",
       "05Harley              ...     0.584657  0.807530  0.889584  0.995129   \n",
       "0beerguy0             ...     0.000000  0.000000  0.018010  0.009327   \n",
       "\n",
       "beer_beerid            74123     74272     74323     74390     74986     75086  \n",
       "review_profilename                                                              \n",
       "0110x011            0.218864  0.409848  0.107322  0.619561  0.739479  0.847760  \n",
       "01Ryan10            0.000000  0.000000  0.000000  0.170847  0.084748  0.000000  \n",
       "04101Brewer         0.000000  0.000000  0.000000  0.000000  0.000000  0.108624  \n",
       "05Harley            0.112249  0.858225  0.527618  0.315805  0.915341  0.546106  \n",
       "0beerguy0           0.064900  0.020712  0.000000  0.033577  0.018466  0.049536  \n",
       "\n",
       "[5 rows x 2028 columns]"
      ]
     },
     "execution_count": 71,
     "metadata": {},
     "output_type": "execute_result"
    }
   ],
   "source": [
    "item_final_rating = np.multiply(item_predicted_ratings,dummy_train)\n",
    "item_final_rating.head()"
   ]
  },
  {
   "cell_type": "markdown",
   "metadata": {},
   "source": [
    "### Top 5 prediction for the user - 3"
   ]
  },
  {
   "cell_type": "code",
   "execution_count": 72,
   "metadata": {},
   "outputs": [
    {
     "data": {
      "text/plain": [
       "beer_beerid\n",
       "48194    2.448220\n",
       "782      2.095456\n",
       "27476    2.063913\n",
       "51512    2.045652\n",
       "70102    1.976326\n",
       "Name: 05Harley, dtype: float64"
      ]
     },
     "execution_count": 72,
     "metadata": {},
     "output_type": "execute_result"
    }
   ],
   "source": [
    "item_final_rating.iloc[3].sort_values(ascending=False)[0:5]"
   ]
  },
  {
   "cell_type": "markdown",
   "metadata": {},
   "source": [
    "### Compute and visualise the similarity between the first 10 beers."
   ]
  },
  {
   "cell_type": "code",
   "execution_count": 73,
   "metadata": {},
   "outputs": [
    {
     "data": {
      "text/plain": [
       "<matplotlib.axes._subplots.AxesSubplot at 0x22780054d30>"
      ]
     },
     "execution_count": 73,
     "metadata": {},
     "output_type": "execute_result"
    },
    {
     "data": {
      "image/png": "[encoded data removed]",
      "text/plain": [
       "<Figure size 576x576 with 2 Axes>"
      ]
     },
     "metadata": {},
     "output_type": "display_data"
    }
   ],
   "source": [
    "# Heatmap plot for first 10 items\n",
    "plt.figure(figsize=(8,8))\n",
    "sns.heatmap(item_correlation[0:10,0:10], annot = True,linewidths=.0)"
   ]
  },
  {
   "cell_type": "code",
   "execution_count": 74,
   "metadata": {},
   "outputs": [
    {
     "data": {
      "text/plain": [
       "<matplotlib.axes._subplots.AxesSubplot at 0x22780031cc0>"
      ]
     },
     "execution_count": 74,
     "metadata": {},
     "output_type": "execute_result"
    },
    {
     "data": {
      "image/png": "[encoded data removed]",
      "text/plain": [
       "<Figure size 576x576 with 2 Axes>"
      ]
     },
     "metadata": {},
     "output_type": "display_data"
    }
   ],
   "source": [
    "# Heatmap plot for first 10 users\n",
    "plt.figure(figsize=(8,8))\n",
    "sns.heatmap(user_correlation[0:10,0:10], annot = True,linewidths=.0)"
   ]
  },
  {
   "cell_type": "markdown",
   "metadata": {},
   "source": [
    "### Give the names of the top 5 beers that you would recommend to the users 'cokes', 'genog' and 'giblet' using both the models."
   ]
  },
  {
   "cell_type": "code",
   "execution_count": 75,
   "metadata": {},
   "outputs": [
    {
     "data": {
      "text/plain": [
       "beer_beerid\n",
       "36179    12.054260\n",
       "28268    11.488170\n",
       "24905    11.420307\n",
       "2219     10.555685\n",
       "28267    10.515109\n",
       "Name: cokes, dtype: float64"
      ]
     },
     "execution_count": 75,
     "metadata": {},
     "output_type": "execute_result"
    }
   ],
   "source": [
    "#Top 5 beers recommended to 'cokes' based on item based model\n",
    "item_final_rating.loc[\"cokes\"].sort_values(ascending=False)[0:5]"
   ]
  },
  {
   "cell_type": "code",
   "execution_count": 76,
   "metadata": {},
   "outputs": [
    {
     "data": {
      "text/plain": [
       "beer_beerid\n",
       "412     42.048229\n",
       "1093    38.781419\n",
       "1708    36.911971\n",
       "4083    36.850615\n",
       "34      36.494164\n",
       "Name: cokes, dtype: float64"
      ]
     },
     "execution_count": 76,
     "metadata": {},
     "output_type": "execute_result"
    }
   ],
   "source": [
    "#Top 5 beers recommended to 'cokes' based on user based model\n",
    "user_final_rating.loc[\"cokes\"].sort_values(ascending=False)[0:5]"
   ]
  },
  {
   "cell_type": "code",
   "execution_count": 77,
   "metadata": {},
   "outputs": [
    {
     "data": {
      "text/plain": [
       "beer_beerid\n",
       "2508    4.048396\n",
       "408     3.763220\n",
       "356     3.730033\n",
       "7799    3.685414\n",
       "646     3.651358\n",
       "Name: genog, dtype: float64"
      ]
     },
     "execution_count": 77,
     "metadata": {},
     "output_type": "execute_result"
    }
   ],
   "source": [
    "#Top 5 beers recommended to 'genog' based on item based model\n",
    "item_final_rating.loc[\"genog\"].sort_values(ascending=False)[0:5]"
   ]
  },
  {
   "cell_type": "code",
   "execution_count": 78,
   "metadata": {},
   "outputs": [
    {
     "data": {
      "text/plain": [
       "beer_beerid\n",
       "2093    33.613647\n",
       "1093    32.375077\n",
       "1013    29.789423\n",
       "34      29.485823\n",
       "92      29.386374\n",
       "Name: genog, dtype: float64"
      ]
     },
     "execution_count": 78,
     "metadata": {},
     "output_type": "execute_result"
    }
   ],
   "source": [
    "#Top 5 beers recommended to 'genog' based on user based model\n",
    "user_final_rating.loc[\"genog\"].sort_values(ascending=False)[0:5]"
   ]
  },
  {
   "cell_type": "code",
   "execution_count": 79,
   "metadata": {},
   "outputs": [
    {
     "data": {
      "text/plain": [
       "beer_beerid\n",
       "259     4.037665\n",
       "1015    3.918037\n",
       "9182    3.867526\n",
       "729     3.732890\n",
       "782     3.609797\n",
       "Name: giblet, dtype: float64"
      ]
     },
     "execution_count": 79,
     "metadata": {},
     "output_type": "execute_result"
    }
   ],
   "source": [
    "#Top 5 beers recommended to 'giblet' based on item based model\n",
    "item_final_rating.loc[\"giblet\"].sort_values(ascending=False)[0:5]"
   ]
  },
  {
   "cell_type": "code",
   "execution_count": 80,
   "metadata": {},
   "outputs": [
    {
     "data": {
      "text/plain": [
       "beer_beerid\n",
       "2093    63.411020\n",
       "104     62.002390\n",
       "412     61.935268\n",
       "1093    56.511968\n",
       "34      53.872070\n",
       "Name: giblet, dtype: float64"
      ]
     },
     "execution_count": 80,
     "metadata": {},
     "output_type": "execute_result"
    }
   ],
   "source": [
    "#Top 5 beers recommended to 'giblet' based on user based model\n",
    "user_final_rating.loc[\"giblet\"].sort_values(ascending=False)[0:5]"
   ]
  },
  {
   "cell_type": "markdown",
   "metadata": {},
   "source": [
    "# Evaluation"
   ]
  },
  {
   "cell_type": "markdown",
   "metadata": {},
   "source": [
    "Evaluation will be same as we have seen above for the prediction. The only difference being, we will evaluate for the beer already rated by the user insead of predicting it for the beer not rated by the user. "
   ]
  },
  {
   "cell_type": "markdown",
   "metadata": {},
   "source": [
    "## Using User Similarity"
   ]
  },
  {
   "cell_type": "code",
   "execution_count": 81,
   "metadata": {},
   "outputs": [
    {
     "name": "stdout",
     "output_type": "stream",
     "text": [
      "[[1. 0. 0. ... 0. 0. 0.]\n",
      " [0. 1. 0. ... 0. 0. 0.]\n",
      " [0. 0. 1. ... 0. 0. 0.]\n",
      " ...\n",
      " [0. 0. 0. ... 1. 0. 0.]\n",
      " [0. 0. 0. ... 0. 1. 0.]\n",
      " [0. 0. 0. ... 0. 0. 1.]]\n"
     ]
    }
   ],
   "source": [
    "test_beer_features = test.pivot(\n",
    "    index='review_profilename',\n",
    "    columns='beer_beerid',\n",
    "    values='review_overall'\n",
    ")\n",
    "mean = np.nanmean(test_beer_features, axis=1)\n",
    "test_df_subtracted = (test_beer_features.T-mean).T\n",
    "\n",
    "# User Similarity Matrix\n",
    "test_user_correlation = 1 - pairwise_distances(test_df_subtracted.fillna(0), metric='cosine')\n",
    "test_user_correlation[np.isnan(test_user_correlation)] = 0\n",
    "print(test_user_correlation)"
   ]
  },
  {
   "cell_type": "code",
   "execution_count": 82,
   "metadata": {},
   "outputs": [
    {
     "data": {
      "text/plain": [
       "array([[0.25759248, 1.03114226, 0.42726579, ..., 0.16461519, 0.60528718,\n",
       "        0.74483352],\n",
       "       [0.17607375, 0.59829136, 0.41797999, ..., 0.71338242, 0.        ,\n",
       "        0.26969114],\n",
       "       [0.35672692, 0.63287196, 0.06750944, ..., 0.6041211 , 0.        ,\n",
       "        0.07923394],\n",
       "       ...,\n",
       "       [0.        , 0.        , 0.        , ..., 0.        , 0.        ,\n",
       "        0.        ],\n",
       "       [0.53947716, 1.81844717, 0.45549682, ..., 0.00343226, 0.73337831,\n",
       "        1.22483534],\n",
       "       [0.        , 0.        , 0.        , ..., 0.        , 0.        ,\n",
       "        0.        ]])"
      ]
     },
     "execution_count": 82,
     "metadata": {},
     "output_type": "execute_result"
    }
   ],
   "source": [
    "test_user_correlation[test_user_correlation<0]=0\n",
    "test_user_predicted_ratings = np.dot(test_user_correlation, test_beer_features.fillna(0))\n",
    "test_user_predicted_ratings"
   ]
  },
  {
   "cell_type": "markdown",
   "metadata": {},
   "source": [
    "### Doing prediction for the movies rated by the user"
   ]
  },
  {
   "cell_type": "code",
   "execution_count": 83,
   "metadata": {},
   "outputs": [],
   "source": [
    "test_user_final_rating = np.multiply(test_user_predicted_ratings,dummy_test)"
   ]
  },
  {
   "cell_type": "code",
   "execution_count": 84,
   "metadata": {},
   "outputs": [
    {
     "data": {
      "text/html": [
       "<div>\n",
       "<style scoped>\n",
       "    .dataframe tbody tr th:only-of-type {\n",
       "        vertical-align: middle;\n",
       "    }\n",
       "\n",
       "    .dataframe tbody tr th {\n",
       "        vertical-align: top;\n",
       "    }\n",
       "\n",
       "    .dataframe thead th {\n",
       "        text-align: right;\n",
       "    }\n",
       "</style>\n",
       "<table border=\"1\" class=\"dataframe\">\n",
       "  <thead>\n",
       "    <tr style=\"text-align: right;\">\n",
       "      <th>beer_beerid</th>\n",
       "      <th>5</th>\n",
       "      <th>6</th>\n",
       "      <th>7</th>\n",
       "      <th>10</th>\n",
       "      <th>14</th>\n",
       "      <th>15</th>\n",
       "      <th>17</th>\n",
       "      <th>19</th>\n",
       "      <th>30</th>\n",
       "      <th>31</th>\n",
       "      <th>...</th>\n",
       "      <th>71919</th>\n",
       "      <th>71969</th>\n",
       "      <th>72138</th>\n",
       "      <th>73131</th>\n",
       "      <th>74123</th>\n",
       "      <th>74272</th>\n",
       "      <th>74323</th>\n",
       "      <th>74390</th>\n",
       "      <th>74986</th>\n",
       "      <th>75086</th>\n",
       "    </tr>\n",
       "    <tr>\n",
       "      <th>review_profilename</th>\n",
       "      <th></th>\n",
       "      <th></th>\n",
       "      <th></th>\n",
       "      <th></th>\n",
       "      <th></th>\n",
       "      <th></th>\n",
       "      <th></th>\n",
       "      <th></th>\n",
       "      <th></th>\n",
       "      <th></th>\n",
       "      <th></th>\n",
       "      <th></th>\n",
       "      <th></th>\n",
       "      <th></th>\n",
       "      <th></th>\n",
       "      <th></th>\n",
       "      <th></th>\n",
       "      <th></th>\n",
       "      <th></th>\n",
       "      <th></th>\n",
       "      <th></th>\n",
       "    </tr>\n",
       "  </thead>\n",
       "  <tbody>\n",
       "    <tr>\n",
       "      <th>0110x011</th>\n",
       "      <td>0.0</td>\n",
       "      <td>0.0</td>\n",
       "      <td>0.0</td>\n",
       "      <td>0.0</td>\n",
       "      <td>0.0</td>\n",
       "      <td>0.0</td>\n",
       "      <td>0.0</td>\n",
       "      <td>0.0</td>\n",
       "      <td>0.0</td>\n",
       "      <td>0.0</td>\n",
       "      <td>...</td>\n",
       "      <td>0.0</td>\n",
       "      <td>0.0</td>\n",
       "      <td>0.0</td>\n",
       "      <td>0.0</td>\n",
       "      <td>0.0</td>\n",
       "      <td>0.0</td>\n",
       "      <td>0.0</td>\n",
       "      <td>0.0</td>\n",
       "      <td>0.0</td>\n",
       "      <td>0.0</td>\n",
       "    </tr>\n",
       "    <tr>\n",
       "      <th>05Harley</th>\n",
       "      <td>0.0</td>\n",
       "      <td>0.0</td>\n",
       "      <td>0.0</td>\n",
       "      <td>0.0</td>\n",
       "      <td>0.0</td>\n",
       "      <td>0.0</td>\n",
       "      <td>0.0</td>\n",
       "      <td>0.0</td>\n",
       "      <td>0.0</td>\n",
       "      <td>0.0</td>\n",
       "      <td>...</td>\n",
       "      <td>0.0</td>\n",
       "      <td>0.0</td>\n",
       "      <td>0.0</td>\n",
       "      <td>0.0</td>\n",
       "      <td>0.0</td>\n",
       "      <td>0.0</td>\n",
       "      <td>0.0</td>\n",
       "      <td>0.0</td>\n",
       "      <td>0.0</td>\n",
       "      <td>0.0</td>\n",
       "    </tr>\n",
       "    <tr>\n",
       "      <th>0tt0</th>\n",
       "      <td>0.0</td>\n",
       "      <td>0.0</td>\n",
       "      <td>0.0</td>\n",
       "      <td>0.0</td>\n",
       "      <td>0.0</td>\n",
       "      <td>0.0</td>\n",
       "      <td>0.0</td>\n",
       "      <td>0.0</td>\n",
       "      <td>0.0</td>\n",
       "      <td>0.0</td>\n",
       "      <td>...</td>\n",
       "      <td>0.0</td>\n",
       "      <td>0.0</td>\n",
       "      <td>0.0</td>\n",
       "      <td>0.0</td>\n",
       "      <td>0.0</td>\n",
       "      <td>0.0</td>\n",
       "      <td>0.0</td>\n",
       "      <td>0.0</td>\n",
       "      <td>0.0</td>\n",
       "      <td>0.0</td>\n",
       "    </tr>\n",
       "    <tr>\n",
       "      <th>1001111</th>\n",
       "      <td>0.0</td>\n",
       "      <td>0.0</td>\n",
       "      <td>0.0</td>\n",
       "      <td>0.0</td>\n",
       "      <td>0.0</td>\n",
       "      <td>0.0</td>\n",
       "      <td>0.0</td>\n",
       "      <td>0.0</td>\n",
       "      <td>0.0</td>\n",
       "      <td>0.0</td>\n",
       "      <td>...</td>\n",
       "      <td>0.0</td>\n",
       "      <td>0.0</td>\n",
       "      <td>0.0</td>\n",
       "      <td>0.0</td>\n",
       "      <td>0.0</td>\n",
       "      <td>0.0</td>\n",
       "      <td>0.0</td>\n",
       "      <td>0.0</td>\n",
       "      <td>0.0</td>\n",
       "      <td>0.0</td>\n",
       "    </tr>\n",
       "    <tr>\n",
       "      <th>100floods</th>\n",
       "      <td>0.0</td>\n",
       "      <td>0.0</td>\n",
       "      <td>0.0</td>\n",
       "      <td>0.0</td>\n",
       "      <td>0.0</td>\n",
       "      <td>0.0</td>\n",
       "      <td>0.0</td>\n",
       "      <td>0.0</td>\n",
       "      <td>0.0</td>\n",
       "      <td>0.0</td>\n",
       "      <td>...</td>\n",
       "      <td>0.0</td>\n",
       "      <td>0.0</td>\n",
       "      <td>0.0</td>\n",
       "      <td>0.0</td>\n",
       "      <td>0.0</td>\n",
       "      <td>0.0</td>\n",
       "      <td>0.0</td>\n",
       "      <td>0.0</td>\n",
       "      <td>0.0</td>\n",
       "      <td>0.0</td>\n",
       "    </tr>\n",
       "  </tbody>\n",
       "</table>\n",
       "<p>5 rows × 2028 columns</p>\n",
       "</div>"
      ],
      "text/plain": [
       "beer_beerid         5      6      7      10     14     15     17     19     \\\n",
       "review_profilename                                                           \n",
       "0110x011              0.0    0.0    0.0    0.0    0.0    0.0    0.0    0.0   \n",
       "05Harley              0.0    0.0    0.0    0.0    0.0    0.0    0.0    0.0   \n",
       "0tt0                  0.0    0.0    0.0    0.0    0.0    0.0    0.0    0.0   \n",
       "1001111               0.0    0.0    0.0    0.0    0.0    0.0    0.0    0.0   \n",
       "100floods             0.0    0.0    0.0    0.0    0.0    0.0    0.0    0.0   \n",
       "\n",
       "beer_beerid         30     31     ...    71919  71969  72138  73131  74123  \\\n",
       "review_profilename                ...                                        \n",
       "0110x011              0.0    0.0  ...      0.0    0.0    0.0    0.0    0.0   \n",
       "05Harley              0.0    0.0  ...      0.0    0.0    0.0    0.0    0.0   \n",
       "0tt0                  0.0    0.0  ...      0.0    0.0    0.0    0.0    0.0   \n",
       "1001111               0.0    0.0  ...      0.0    0.0    0.0    0.0    0.0   \n",
       "100floods             0.0    0.0  ...      0.0    0.0    0.0    0.0    0.0   \n",
       "\n",
       "beer_beerid         74272  74323  74390  74986  75086  \n",
       "review_profilename                                     \n",
       "0110x011              0.0    0.0    0.0    0.0    0.0  \n",
       "05Harley              0.0    0.0    0.0    0.0    0.0  \n",
       "0tt0                  0.0    0.0    0.0    0.0    0.0  \n",
       "1001111               0.0    0.0    0.0    0.0    0.0  \n",
       "100floods             0.0    0.0    0.0    0.0    0.0  \n",
       "\n",
       "[5 rows x 2028 columns]"
      ]
     },
     "execution_count": 84,
     "metadata": {},
     "output_type": "execute_result"
    }
   ],
   "source": [
    "test_user_final_rating.head()"
   ]
  },
  {
   "cell_type": "markdown",
   "metadata": {},
   "source": [
    "### Calculating the RMSE for only the beers rated by user. For  RMSE,  no need for normalising the rating to (1,5) range as its already in the provided range"
   ]
  },
  {
   "cell_type": "code",
   "execution_count": 85,
   "metadata": {},
   "outputs": [
    {
     "name": "stdout",
     "output_type": "stream",
     "text": [
      "beer_beerid         5      6      7      10     14     15     17     19     \\\n",
      "review_profilename                                                           \n",
      "0110x011              NaN    NaN    NaN    NaN    NaN    NaN    NaN    NaN   \n",
      "05Harley              NaN    NaN    NaN    NaN    NaN    NaN    NaN    NaN   \n",
      "0tt0                  NaN    NaN    NaN    NaN    NaN    NaN    NaN    NaN   \n",
      "1001111               NaN    NaN    NaN    NaN    NaN    NaN    NaN    NaN   \n",
      "100floods             NaN    NaN    NaN    NaN    NaN    NaN    NaN    NaN   \n",
      "1099                  NaN    NaN    NaN    NaN    NaN    NaN    NaN    NaN   \n",
      "1121987               NaN    NaN    NaN    NaN    NaN    NaN    NaN    NaN   \n",
      "11millsown113         NaN    NaN    NaN    NaN    NaN    NaN    NaN    NaN   \n",
      "11osixBrew            NaN    NaN    NaN    NaN    NaN    NaN    NaN    NaN   \n",
      "11thFloorBrewing      NaN    NaN    NaN    NaN    NaN    NaN    NaN    NaN   \n",
      "1229design            NaN    NaN    NaN    NaN    NaN    NaN    NaN    NaN   \n",
      "12percent             NaN    NaN    NaN    NaN    NaN    NaN    NaN    NaN   \n",
      "130guy                NaN    NaN    NaN    NaN    NaN    NaN    NaN    NaN   \n",
      "160Shillings          NaN    NaN    NaN    NaN    NaN    NaN    NaN    NaN   \n",
      "1759Girl              NaN    NaN    NaN    NaN    NaN    NaN    NaN    NaN   \n",
      "1759dallas            NaN    NaN    NaN    NaN    NaN    NaN    NaN    NaN   \n",
      "1996StrokerKid        NaN    NaN    NaN    NaN    NaN    NaN    NaN    NaN   \n",
      "1Adam12               NaN    NaN    NaN    NaN    NaN    NaN    NaN    NaN   \n",
      "1PA                   NaN    NaN    NaN    NaN    NaN    NaN    NaN    NaN   \n",
      "1Paradisebrew         NaN    NaN    NaN    NaN    NaN    NaN    NaN    NaN   \n",
      "1after909             NaN    NaN    NaN    NaN    NaN    NaN    NaN    NaN   \n",
      "1fastz28              NaN    NaN    NaN    NaN    NaN    NaN    NaN    NaN   \n",
      "1morebeer             NaN    NaN    NaN    NaN    NaN    NaN    NaN    NaN   \n",
      "1thinmint             NaN    NaN    NaN    NaN    NaN    NaN    NaN    NaN   \n",
      "1whiskey              NaN    NaN    NaN    NaN    NaN    NaN    NaN    NaN   \n",
      "20ozmonkey            NaN    NaN    NaN    NaN    NaN    NaN    NaN    NaN   \n",
      "214beernuts           NaN    NaN    NaN    NaN    NaN    NaN    NaN    NaN   \n",
      "21mmer                NaN    NaN    NaN    NaN    NaN    NaN    NaN    NaN   \n",
      "22ozStone             NaN    NaN    NaN    NaN    NaN    NaN    NaN    NaN   \n",
      "2378GCGTG             NaN    NaN    NaN    NaN    NaN    NaN    NaN    NaN   \n",
      "...                   ...    ...    ...    ...    ...    ...    ...    ...   \n",
      "zerk                  NaN    NaN    NaN    NaN    NaN    NaN    NaN    NaN   \n",
      "zerofear13            NaN    NaN    NaN    NaN    NaN    NaN    NaN    NaN   \n",
      "zfjohnson             NaN    NaN    NaN    NaN    NaN    NaN    NaN    NaN   \n",
      "zhanson88             NaN    NaN    NaN    NaN    NaN    NaN    NaN    NaN   \n",
      "zhooker               NaN    NaN    NaN    NaN    NaN    NaN    NaN    NaN   \n",
      "ziggy13               NaN    NaN    NaN    NaN    NaN    NaN    NaN    NaN   \n",
      "zimm421               NaN    NaN    NaN    NaN    NaN    NaN    NaN    NaN   \n",
      "zimmerbloke           NaN    NaN    NaN    NaN    NaN    NaN    NaN    NaN   \n",
      "zjungleist            NaN    NaN    NaN    NaN    NaN    NaN    NaN    NaN   \n",
      "zminor                NaN    NaN    NaN    NaN    NaN    NaN    NaN    NaN   \n",
      "znarf                 NaN    NaN    NaN    NaN    NaN    NaN    NaN    NaN   \n",
      "zook74                NaN    NaN    NaN    NaN    NaN    NaN    NaN    NaN   \n",
      "zoolou                NaN    NaN    NaN    NaN    NaN    NaN    NaN    NaN   \n",
      "zoolzoo               NaN    NaN    NaN    NaN    NaN    NaN    NaN    NaN   \n",
      "zorro5683             NaN    NaN    NaN    NaN    NaN    NaN    NaN    NaN   \n",
      "zoso1967              NaN    NaN    NaN    NaN    NaN    NaN    NaN    NaN   \n",
      "zoso493               NaN    NaN    NaN    NaN    NaN    NaN    NaN    NaN   \n",
      "zplug123              NaN    NaN    NaN    NaN    NaN    NaN    NaN    NaN   \n",
      "zrab11                NaN    NaN    NaN    NaN    NaN    NaN    NaN    NaN   \n",
      "zseeanz               NaN    NaN    NaN    NaN    NaN    NaN    NaN    NaN   \n",
      "ztaylor1              NaN    NaN    NaN    NaN    NaN    NaN    NaN    NaN   \n",
      "ztoellner             NaN    NaN    NaN    NaN    NaN    NaN    NaN    NaN   \n",
      "ztruempy              NaN    NaN    NaN    NaN    NaN    NaN    NaN    NaN   \n",
      "zuccard               NaN    NaN    NaN    NaN    NaN    NaN    NaN    NaN   \n",
      "zuffenhausen          NaN    NaN    NaN    NaN    NaN    NaN    NaN    NaN   \n",
      "zuggy9                NaN    NaN    NaN    NaN    NaN    NaN    NaN    NaN   \n",
      "zumicroom             NaN    NaN    NaN    NaN    NaN    NaN    NaN    NaN   \n",
      "zwan                  NaN    NaN    NaN    NaN    NaN    NaN    NaN    NaN   \n",
      "zymurgy4all           NaN    NaN    NaN    NaN    NaN    NaN    NaN    NaN   \n",
      "zyzygy                NaN    NaN    NaN    NaN    NaN    NaN    NaN    NaN   \n",
      "\n",
      "beer_beerid             30     31     ...    71919     71969  72138  73131  \\\n",
      "review_profilename                    ...                                    \n",
      "0110x011                  NaN    NaN  ...      NaN       NaN    NaN    NaN   \n",
      "05Harley                  NaN    NaN  ...      NaN       NaN    NaN    NaN   \n",
      "0tt0                      NaN    NaN  ...      NaN       NaN    NaN    NaN   \n",
      "1001111                   NaN    NaN  ...      NaN       NaN    NaN    NaN   \n",
      "100floods                 NaN    NaN  ...      NaN       NaN    NaN    NaN   \n",
      "1099                      NaN    NaN  ...      NaN       NaN    NaN    NaN   \n",
      "1121987                   NaN    NaN  ...      NaN       NaN    NaN    NaN   \n",
      "11millsown113             NaN    NaN  ...      NaN       NaN    NaN    NaN   \n",
      "11osixBrew                NaN    NaN  ...      NaN       NaN    NaN    NaN   \n",
      "11thFloorBrewing          NaN    NaN  ...      NaN       NaN    NaN    NaN   \n",
      "1229design                NaN    NaN  ...      NaN       NaN    NaN    NaN   \n",
      "12percent                 NaN    NaN  ...      NaN       NaN    NaN    NaN   \n",
      "130guy                    NaN    NaN  ...      NaN       NaN    NaN    NaN   \n",
      "160Shillings              NaN    NaN  ...      NaN       NaN    NaN    NaN   \n",
      "1759Girl                  NaN    NaN  ...      NaN       NaN    NaN    NaN   \n",
      "1759dallas                NaN    NaN  ...      NaN       NaN    NaN    NaN   \n",
      "1996StrokerKid            NaN    NaN  ...      NaN       NaN    NaN    NaN   \n",
      "1Adam12                   NaN    NaN  ...      NaN       NaN    NaN    NaN   \n",
      "1PA                       NaN    NaN  ...      NaN       NaN    NaN    NaN   \n",
      "1Paradisebrew             NaN    NaN  ...      NaN       NaN    NaN    NaN   \n",
      "1after909                 NaN    NaN  ...      NaN       NaN    NaN    NaN   \n",
      "1fastz28                  NaN    NaN  ...      NaN       NaN    NaN    NaN   \n",
      "1morebeer                 NaN    NaN  ...      NaN       NaN    NaN    NaN   \n",
      "1thinmint                 NaN    NaN  ...      NaN       NaN    NaN    NaN   \n",
      "1whiskey                  NaN    NaN  ...      NaN       NaN    NaN    NaN   \n",
      "20ozmonkey                NaN    NaN  ...      NaN       NaN    NaN    NaN   \n",
      "214beernuts               NaN    NaN  ...      NaN       NaN    NaN    NaN   \n",
      "21mmer                    NaN    NaN  ...      NaN       NaN    NaN    NaN   \n",
      "22ozStone                 NaN    NaN  ...      NaN       NaN    NaN    NaN   \n",
      "2378GCGTG                 NaN    NaN  ...      NaN       NaN    NaN    NaN   \n",
      "...                       ...    ...  ...      ...       ...    ...    ...   \n",
      "zerk                      NaN    NaN  ...      NaN       NaN    NaN    NaN   \n",
      "zerofear13                NaN    NaN  ...      NaN       NaN    NaN    NaN   \n",
      "zfjohnson                 NaN    NaN  ...      NaN       NaN    NaN    NaN   \n",
      "zhanson88                 NaN    NaN  ...      NaN       NaN    NaN    NaN   \n",
      "zhooker                   NaN    NaN  ...      NaN       NaN    NaN    NaN   \n",
      "ziggy13                   NaN    NaN  ...      NaN       NaN    NaN    NaN   \n",
      "zimm421                   NaN    NaN  ...      NaN  4.445737    NaN    NaN   \n",
      "zimmerbloke               NaN    NaN  ...      NaN       NaN    NaN    NaN   \n",
      "zjungleist          28.011054    NaN  ...      NaN       NaN    NaN    NaN   \n",
      "zminor                    NaN    NaN  ...      NaN       NaN    NaN    NaN   \n",
      "znarf                     NaN    NaN  ...      NaN       NaN    NaN    NaN   \n",
      "zook74                    NaN    NaN  ...      NaN       NaN    NaN    NaN   \n",
      "zoolou                    NaN    NaN  ...      NaN       NaN    NaN    NaN   \n",
      "zoolzoo                   NaN    NaN  ...      NaN       NaN    NaN    NaN   \n",
      "zorro5683                 NaN    NaN  ...      NaN       NaN    NaN    NaN   \n",
      "zoso1967                  NaN    NaN  ...      NaN       NaN    NaN    NaN   \n",
      "zoso493                   NaN    NaN  ...      NaN       NaN    NaN    NaN   \n",
      "zplug123                  NaN    NaN  ...      NaN       NaN    NaN    NaN   \n",
      "zrab11                    NaN    NaN  ...      NaN       NaN    NaN    NaN   \n",
      "zseeanz                   NaN    NaN  ...      NaN       NaN    NaN    NaN   \n",
      "ztaylor1                  NaN    NaN  ...      NaN       NaN    NaN    NaN   \n",
      "ztoellner                 NaN    NaN  ...      NaN       NaN    NaN    NaN   \n",
      "ztruempy                  NaN    NaN  ...      NaN       NaN    NaN    NaN   \n",
      "zuccard                   NaN    NaN  ...      NaN       NaN    NaN    NaN   \n",
      "zuffenhausen              NaN    NaN  ...      NaN       NaN    NaN    NaN   \n",
      "zuggy9                    NaN    NaN  ...      NaN       NaN    NaN    NaN   \n",
      "zumicroom                 NaN    NaN  ...      NaN       NaN    NaN    NaN   \n",
      "zwan                      NaN    NaN  ...      NaN       NaN    NaN    NaN   \n",
      "zymurgy4all               NaN    NaN  ...      NaN       NaN    NaN    NaN   \n",
      "zyzygy                    NaN    NaN  ...      NaN       NaN    NaN    NaN   \n",
      "\n",
      "beer_beerid            74123  74272  74323  74390  74986  75086  \n",
      "review_profilename                                               \n",
      "0110x011                 NaN    NaN    NaN    NaN    NaN    NaN  \n",
      "05Harley                 NaN    NaN    NaN    NaN    NaN    NaN  \n",
      "0tt0                     NaN    NaN    NaN    NaN    NaN    NaN  \n",
      "1001111                  NaN    NaN    NaN    NaN    NaN    NaN  \n",
      "100floods                NaN    NaN    NaN    NaN    NaN    NaN  \n",
      "1099                     NaN    NaN    NaN    NaN    NaN    NaN  \n",
      "1121987                  NaN    NaN    NaN    NaN    NaN    NaN  \n",
      "11millsown113            NaN    NaN    NaN    NaN    NaN    NaN  \n",
      "11osixBrew               NaN    NaN    NaN    NaN    NaN    NaN  \n",
      "11thFloorBrewing         NaN    NaN    NaN    NaN    NaN    NaN  \n",
      "1229design               NaN    NaN    NaN    NaN    NaN    NaN  \n",
      "12percent                NaN    NaN    NaN    NaN    NaN    NaN  \n",
      "130guy                   NaN    NaN    NaN    NaN    NaN    NaN  \n",
      "160Shillings             NaN    NaN    NaN    NaN    NaN    NaN  \n",
      "1759Girl                 NaN    NaN    NaN    NaN    NaN    NaN  \n",
      "1759dallas               NaN    NaN    NaN    NaN    NaN    NaN  \n",
      "1996StrokerKid           NaN    NaN    NaN    NaN    NaN    NaN  \n",
      "1Adam12                  NaN    NaN    NaN    NaN    NaN    NaN  \n",
      "1PA                      NaN    NaN    NaN    NaN    NaN    NaN  \n",
      "1Paradisebrew            NaN    NaN    NaN    NaN    NaN    NaN  \n",
      "1after909                NaN    NaN    NaN    NaN    NaN    NaN  \n",
      "1fastz28            4.554361    NaN    NaN    NaN    NaN    NaN  \n",
      "1morebeer                NaN    NaN    NaN    NaN    NaN    NaN  \n",
      "1thinmint                NaN    NaN    NaN    NaN    NaN    NaN  \n",
      "1whiskey                 NaN    NaN    NaN    NaN    NaN    NaN  \n",
      "20ozmonkey               NaN    NaN    NaN    NaN    NaN    NaN  \n",
      "214beernuts              NaN    NaN    NaN    NaN    NaN    NaN  \n",
      "21mmer                   NaN    NaN    NaN    NaN    NaN    NaN  \n",
      "22ozStone                NaN    NaN    NaN    NaN    NaN    NaN  \n",
      "2378GCGTG                NaN    NaN    NaN    NaN    NaN    NaN  \n",
      "...                      ...    ...    ...    ...    ...    ...  \n",
      "zerk                     NaN    NaN    NaN    NaN    NaN    NaN  \n",
      "zerofear13               NaN    NaN    NaN    NaN    NaN    NaN  \n",
      "zfjohnson                NaN    NaN    NaN    NaN    NaN    NaN  \n",
      "zhanson88                NaN    NaN    NaN    NaN    NaN    NaN  \n",
      "zhooker                  NaN    NaN    NaN    NaN    NaN    NaN  \n",
      "ziggy13                  NaN    NaN    NaN    NaN    NaN    NaN  \n",
      "zimm421                  NaN    NaN    NaN    NaN    NaN    NaN  \n",
      "zimmerbloke              NaN    NaN    NaN    NaN    NaN    NaN  \n",
      "zjungleist               NaN    NaN    NaN    NaN    NaN    NaN  \n",
      "zminor                   NaN    NaN    NaN    NaN    NaN    NaN  \n",
      "znarf                    NaN    NaN    NaN    NaN    NaN    NaN  \n",
      "zook74                   NaN    NaN    NaN    NaN    NaN    NaN  \n",
      "zoolou                   NaN    NaN    NaN    NaN    NaN    NaN  \n",
      "zoolzoo                  NaN    NaN    NaN    NaN    NaN    NaN  \n",
      "zorro5683                NaN    NaN    NaN    NaN    NaN    NaN  \n",
      "zoso1967                 NaN    NaN    NaN    NaN    NaN    NaN  \n",
      "zoso493                  NaN    NaN    NaN    NaN    NaN    NaN  \n",
      "zplug123                 NaN    NaN    NaN    NaN    NaN    NaN  \n",
      "zrab11                   NaN    NaN    NaN    NaN    NaN    NaN  \n",
      "zseeanz                  NaN    NaN    NaN    NaN    NaN    NaN  \n",
      "ztaylor1                 NaN    NaN    NaN    NaN    NaN    NaN  \n",
      "ztoellner                NaN    NaN    NaN    NaN    NaN    NaN  \n",
      "ztruempy                 NaN    NaN    NaN    NaN    NaN    NaN  \n",
      "zuccard                  NaN    NaN    NaN    NaN    NaN    NaN  \n",
      "zuffenhausen             NaN    NaN    NaN    NaN    NaN    NaN  \n",
      "zuggy9                   NaN    NaN    NaN    NaN    NaN    NaN  \n",
      "zumicroom                NaN    NaN    NaN    NaN    NaN    NaN  \n",
      "zwan                     NaN    NaN    NaN    NaN    NaN    NaN  \n",
      "zymurgy4all              NaN    NaN    NaN    NaN    NaN    NaN  \n",
      "zyzygy                   NaN    NaN    NaN    NaN    NaN    NaN  \n",
      "\n",
      "[12257 rows x 2028 columns]\n"
     ]
    }
   ],
   "source": [
    "from sklearn.preprocessing import MinMaxScaler\n",
    "from numpy import *\n",
    "\n",
    "X  = test_user_final_rating.copy() \n",
    "X = X[X>0]\n",
    "\n",
    "print(X)"
   ]
  },
  {
   "cell_type": "code",
   "execution_count": 86,
   "metadata": {},
   "outputs": [],
   "source": [
    "test_ = test.pivot(\n",
    "    index='review_profilename',\n",
    "    columns='beer_beerid',\n",
    "    values='review_overall'\n",
    ")"
   ]
  },
  {
   "cell_type": "code",
   "execution_count": 87,
   "metadata": {},
   "outputs": [],
   "source": [
    "# Finding total non-NaN value\n",
    "total_non_nan = np.count_nonzero(~np.isnan(X))"
   ]
  },
  {
   "cell_type": "code",
   "execution_count": 88,
   "metadata": {},
   "outputs": [
    {
     "name": "stdout",
     "output_type": "stream",
     "text": [
      "18.595044738286237\n"
     ]
    }
   ],
   "source": [
    "rmse = (sum(sum((test_ - X )**2))/total_non_nan)**0.5\n",
    "print(rmse)"
   ]
  },
  {
   "cell_type": "markdown",
   "metadata": {},
   "source": [
    "## Using Item similarity"
   ]
  },
  {
   "cell_type": "code",
   "execution_count": 89,
   "metadata": {},
   "outputs": [],
   "source": [
    "test_beer_features = test.pivot(\n",
    "    index='review_profilename',\n",
    "    columns='beer_beerid',\n",
    "    values='review_overall'\n",
    ").T\n",
    "\n",
    "mean = np.nanmean(test_beer_features, axis=1)\n",
    "test_df_subtracted = (test_beer_features.T-mean).T\n",
    "\n",
    "test_item_correlation = 1 - pairwise_distances(test_df_subtracted.fillna(0), metric='cosine')\n",
    "test_item_correlation[np.isnan(test_item_correlation)] = 0\n",
    "test_item_correlation[test_item_correlation<0]=0"
   ]
  },
  {
   "cell_type": "code",
   "execution_count": 90,
   "metadata": {},
   "outputs": [
    {
     "data": {
      "text/plain": [
       "(2028, 2028)"
      ]
     },
     "execution_count": 90,
     "metadata": {},
     "output_type": "execute_result"
    }
   ],
   "source": [
    "test_item_correlation.shape"
   ]
  },
  {
   "cell_type": "code",
   "execution_count": 91,
   "metadata": {},
   "outputs": [
    {
     "data": {
      "text/plain": [
       "(2028, 12257)"
      ]
     },
     "execution_count": 91,
     "metadata": {},
     "output_type": "execute_result"
    }
   ],
   "source": [
    "test_beer_features.shape"
   ]
  },
  {
   "cell_type": "code",
   "execution_count": 92,
   "metadata": {},
   "outputs": [
    {
     "data": {
      "text/html": [
       "<div>\n",
       "<style scoped>\n",
       "    .dataframe tbody tr th:only-of-type {\n",
       "        vertical-align: middle;\n",
       "    }\n",
       "\n",
       "    .dataframe tbody tr th {\n",
       "        vertical-align: top;\n",
       "    }\n",
       "\n",
       "    .dataframe thead th {\n",
       "        text-align: right;\n",
       "    }\n",
       "</style>\n",
       "<table border=\"1\" class=\"dataframe\">\n",
       "  <thead>\n",
       "    <tr style=\"text-align: right;\">\n",
       "      <th>beer_beerid</th>\n",
       "      <th>5</th>\n",
       "      <th>6</th>\n",
       "      <th>7</th>\n",
       "      <th>10</th>\n",
       "      <th>14</th>\n",
       "      <th>15</th>\n",
       "      <th>17</th>\n",
       "      <th>19</th>\n",
       "      <th>30</th>\n",
       "      <th>31</th>\n",
       "      <th>...</th>\n",
       "      <th>71919</th>\n",
       "      <th>71969</th>\n",
       "      <th>72138</th>\n",
       "      <th>73131</th>\n",
       "      <th>74123</th>\n",
       "      <th>74272</th>\n",
       "      <th>74323</th>\n",
       "      <th>74390</th>\n",
       "      <th>74986</th>\n",
       "      <th>75086</th>\n",
       "    </tr>\n",
       "    <tr>\n",
       "      <th>review_profilename</th>\n",
       "      <th></th>\n",
       "      <th></th>\n",
       "      <th></th>\n",
       "      <th></th>\n",
       "      <th></th>\n",
       "      <th></th>\n",
       "      <th></th>\n",
       "      <th></th>\n",
       "      <th></th>\n",
       "      <th></th>\n",
       "      <th></th>\n",
       "      <th></th>\n",
       "      <th></th>\n",
       "      <th></th>\n",
       "      <th></th>\n",
       "      <th></th>\n",
       "      <th></th>\n",
       "      <th></th>\n",
       "      <th></th>\n",
       "      <th></th>\n",
       "      <th></th>\n",
       "    </tr>\n",
       "  </thead>\n",
       "  <tbody>\n",
       "    <tr>\n",
       "      <th>0110x011</th>\n",
       "      <td>0.0</td>\n",
       "      <td>0.0</td>\n",
       "      <td>0.0</td>\n",
       "      <td>0.0</td>\n",
       "      <td>0.0</td>\n",
       "      <td>0.0</td>\n",
       "      <td>0.0</td>\n",
       "      <td>0.0</td>\n",
       "      <td>0.0</td>\n",
       "      <td>0.0</td>\n",
       "      <td>...</td>\n",
       "      <td>0.0</td>\n",
       "      <td>0.0</td>\n",
       "      <td>0.0</td>\n",
       "      <td>0.0</td>\n",
       "      <td>0.0</td>\n",
       "      <td>0.0</td>\n",
       "      <td>0.0</td>\n",
       "      <td>0.0</td>\n",
       "      <td>0.0</td>\n",
       "      <td>0.0</td>\n",
       "    </tr>\n",
       "    <tr>\n",
       "      <th>05Harley</th>\n",
       "      <td>0.0</td>\n",
       "      <td>0.0</td>\n",
       "      <td>0.0</td>\n",
       "      <td>0.0</td>\n",
       "      <td>0.0</td>\n",
       "      <td>0.0</td>\n",
       "      <td>0.0</td>\n",
       "      <td>0.0</td>\n",
       "      <td>0.0</td>\n",
       "      <td>0.0</td>\n",
       "      <td>...</td>\n",
       "      <td>0.0</td>\n",
       "      <td>0.0</td>\n",
       "      <td>0.0</td>\n",
       "      <td>0.0</td>\n",
       "      <td>0.0</td>\n",
       "      <td>0.0</td>\n",
       "      <td>0.0</td>\n",
       "      <td>0.0</td>\n",
       "      <td>0.0</td>\n",
       "      <td>0.0</td>\n",
       "    </tr>\n",
       "    <tr>\n",
       "      <th>0tt0</th>\n",
       "      <td>0.0</td>\n",
       "      <td>0.0</td>\n",
       "      <td>0.0</td>\n",
       "      <td>0.0</td>\n",
       "      <td>0.0</td>\n",
       "      <td>0.0</td>\n",
       "      <td>0.0</td>\n",
       "      <td>0.0</td>\n",
       "      <td>0.0</td>\n",
       "      <td>0.0</td>\n",
       "      <td>...</td>\n",
       "      <td>0.0</td>\n",
       "      <td>0.0</td>\n",
       "      <td>0.0</td>\n",
       "      <td>0.0</td>\n",
       "      <td>0.0</td>\n",
       "      <td>0.0</td>\n",
       "      <td>0.0</td>\n",
       "      <td>0.0</td>\n",
       "      <td>0.0</td>\n",
       "      <td>0.0</td>\n",
       "    </tr>\n",
       "    <tr>\n",
       "      <th>1001111</th>\n",
       "      <td>0.0</td>\n",
       "      <td>0.0</td>\n",
       "      <td>0.0</td>\n",
       "      <td>0.0</td>\n",
       "      <td>0.0</td>\n",
       "      <td>0.0</td>\n",
       "      <td>0.0</td>\n",
       "      <td>0.0</td>\n",
       "      <td>0.0</td>\n",
       "      <td>0.0</td>\n",
       "      <td>...</td>\n",
       "      <td>0.0</td>\n",
       "      <td>0.0</td>\n",
       "      <td>0.0</td>\n",
       "      <td>0.0</td>\n",
       "      <td>0.0</td>\n",
       "      <td>0.0</td>\n",
       "      <td>0.0</td>\n",
       "      <td>0.0</td>\n",
       "      <td>0.0</td>\n",
       "      <td>0.0</td>\n",
       "    </tr>\n",
       "    <tr>\n",
       "      <th>100floods</th>\n",
       "      <td>0.0</td>\n",
       "      <td>0.0</td>\n",
       "      <td>0.0</td>\n",
       "      <td>0.0</td>\n",
       "      <td>0.0</td>\n",
       "      <td>0.0</td>\n",
       "      <td>0.0</td>\n",
       "      <td>0.0</td>\n",
       "      <td>0.0</td>\n",
       "      <td>0.0</td>\n",
       "      <td>...</td>\n",
       "      <td>0.0</td>\n",
       "      <td>0.0</td>\n",
       "      <td>0.0</td>\n",
       "      <td>0.0</td>\n",
       "      <td>0.0</td>\n",
       "      <td>0.0</td>\n",
       "      <td>0.0</td>\n",
       "      <td>0.0</td>\n",
       "      <td>0.0</td>\n",
       "      <td>0.0</td>\n",
       "    </tr>\n",
       "  </tbody>\n",
       "</table>\n",
       "<p>5 rows × 2028 columns</p>\n",
       "</div>"
      ],
      "text/plain": [
       "beer_beerid         5      6      7      10     14     15     17     19     \\\n",
       "review_profilename                                                           \n",
       "0110x011              0.0    0.0    0.0    0.0    0.0    0.0    0.0    0.0   \n",
       "05Harley              0.0    0.0    0.0    0.0    0.0    0.0    0.0    0.0   \n",
       "0tt0                  0.0    0.0    0.0    0.0    0.0    0.0    0.0    0.0   \n",
       "1001111               0.0    0.0    0.0    0.0    0.0    0.0    0.0    0.0   \n",
       "100floods             0.0    0.0    0.0    0.0    0.0    0.0    0.0    0.0   \n",
       "\n",
       "beer_beerid         30     31     ...    71919  71969  72138  73131  74123  \\\n",
       "review_profilename                ...                                        \n",
       "0110x011              0.0    0.0  ...      0.0    0.0    0.0    0.0    0.0   \n",
       "05Harley              0.0    0.0  ...      0.0    0.0    0.0    0.0    0.0   \n",
       "0tt0                  0.0    0.0  ...      0.0    0.0    0.0    0.0    0.0   \n",
       "1001111               0.0    0.0  ...      0.0    0.0    0.0    0.0    0.0   \n",
       "100floods             0.0    0.0  ...      0.0    0.0    0.0    0.0    0.0   \n",
       "\n",
       "beer_beerid         74272  74323  74390  74986  75086  \n",
       "review_profilename                                     \n",
       "0110x011              0.0    0.0    0.0    0.0    0.0  \n",
       "05Harley              0.0    0.0    0.0    0.0    0.0  \n",
       "0tt0                  0.0    0.0    0.0    0.0    0.0  \n",
       "1001111               0.0    0.0    0.0    0.0    0.0  \n",
       "100floods             0.0    0.0    0.0    0.0    0.0  \n",
       "\n",
       "[5 rows x 2028 columns]"
      ]
     },
     "execution_count": 92,
     "metadata": {},
     "output_type": "execute_result"
    }
   ],
   "source": [
    "test_item_predicted_ratings = (np.dot(test_item_correlation, test_beer_features.fillna(0))).T\n",
    "test_item_final_rating = np.multiply(test_item_predicted_ratings,dummy_test)\n",
    "test_item_final_rating.head()"
   ]
  },
  {
   "cell_type": "code",
   "execution_count": 93,
   "metadata": {},
   "outputs": [],
   "source": [
    "test_ = test.pivot(\n",
    "    index='review_profilename',\n",
    "    columns='beer_beerid',\n",
    "    values='review_overall'\n",
    ")"
   ]
  },
  {
   "cell_type": "code",
   "execution_count": 94,
   "metadata": {},
   "outputs": [],
   "source": [
    "from sklearn.preprocessing import MinMaxScaler\n",
    "from numpy import *\n",
    "\n",
    "X  = test_item_final_rating.copy() \n",
    "X = X[X>0]\n",
    "y = X\n",
    "# scaler = MinMaxScaler(feature_range=(1, 5))\n",
    "# print(scaler.fit(X))\n",
    "# y = (scaler.transform(X))\n",
    "\n",
    "\n",
    "test_ = test.pivot(\n",
    "    index='review_profilename',\n",
    "    columns='beer_beerid',\n",
    "    values='review_overall'\n",
    ")\n",
    "\n",
    "# Finding total non-NaN value\n",
    "total_non_nan = np.count_nonzero(~np.isnan(y))"
   ]
  },
  {
   "cell_type": "code",
   "execution_count": 95,
   "metadata": {},
   "outputs": [
    {
     "name": "stdout",
     "output_type": "stream",
     "text": [
      "2.2065140858009595\n"
     ]
    }
   ],
   "source": [
    "rmse = (sum(sum((test_ - y )**2))/total_non_nan)**0.5\n",
    "print(rmse)"
   ]
  },
  {
   "cell_type": "markdown",
   "metadata": {},
   "source": [
    "### As seen, the rmse value for item based prediction is far less than the user based predictions. Therefore, we'll choose item based prediction  model as the best model & choose it for deployment."
   ]
  },
  {
   "cell_type": "code",
   "execution_count": null,
   "metadata": {},
   "outputs": [],
   "source": []
  }
 ],
 "metadata": {
  "kernelspec": {
   "display_name": "Python 3",
   "language": "python",
   "name": "python3"
  },
  "language_info": {
   "codemirror_mode": {
    "name": "ipython",
    "version": 3
   },
   "file_extension": ".py",
   "mimetype": "text/x-python",
   "name": "python",
   "nbconvert_exporter": "python",
   "pygments_lexer": "ipython3",
   "version": "3.6.5"
  }
 },
 "nbformat": 4,
 "nbformat_minor": 2
}
